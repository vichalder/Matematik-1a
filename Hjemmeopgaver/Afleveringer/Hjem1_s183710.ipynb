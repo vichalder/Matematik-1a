{
 "cells": [
  {
   "cell_type": "markdown",
   "metadata": {},
   "source": [
    "# <center>Hjemmeopgave 1 - Matematik 1a\n",
    "#### <center>Victor Jonathan Hald\n",
    "#### <center>s183710\n",
    "#### <center>29-09-2024"
   ]
  },
  {
   "cell_type": "markdown",
   "metadata": {},
   "source": [
    "## Opgave a)"
   ]
  },
  {
   "cell_type": "markdown",
   "metadata": {},
   "source": [
    "#### **Afgør om følgende to logiske udsagn er logisk ækvivalente:**\n",
    "\n",
    "**$(P ∧ Q) ⇒ R$  og  $¬P ∨ (Q ⇒ R)$**\n",
    "\n",
    "Vi opstiller vores sandhedstabel."
   ]
  },
  {
   "attachments": {
    "image-2.png": {
     "image/png": "[encoded data removed]"
    }
   },
   "cell_type": "markdown",
   "metadata": {},
   "source": [
    "![image-2.png](attachment:image-2.png)"
   ]
  },
  {
   "cell_type": "markdown",
   "metadata": {},
   "source": [
    "Som vi kan se, er de sidste to søjler identiske, og derfor logisk ækvivalente. "
   ]
  },
  {
   "cell_type": "markdown",
   "metadata": {},
   "source": [
    "## Opgave b)"
   ]
  },
  {
   "cell_type": "markdown",
   "metadata": {},
   "source": [
    "#### **Find alle reelle tal x som opfylder ligningen $|x-1|^2 = x^2 + |x|$.**\n",
    "\n",
    "For at løse ligningen $ |x-1|^2 = x^2 + |x| $, deler vi problemet op i to tilfælde baseret på værdien af $x$.\n",
    "\n",
    "#### Tilfælde 1: $x \\geq 0$\n",
    "Når $x \\geq 0$, er $ |x| = x $ og $ |x-1| = x-1 $ (da $x \\geq 1$ eller $0 \\leq x < 1$).\n",
    "\n",
    "Ligningen bliver:\n",
    "$$\n",
    "(x-1)^2 = x^2 + x\n",
    "$$\n",
    "Udvider venstresiden:\n",
    "$$\n",
    "x^2 - 2x + 1 = x^2 + x\n",
    "$$\n",
    "Trækker $x^2$ fra begge sider:\n",
    "$$\n",
    "-2x + 1 = x\n",
    "$$\n",
    "Løser for $x$:\n",
    "$$\n",
    "1 = 3x \\implies x = \\frac{1}{3}\n",
    "$$\n",
    "Da $x = \\frac{1}{3}$ opfylder $x \\geq 0$, er det en gyldig løsning i dette tilfælde.\n",
    "\n",
    "#### Tilfælde 2: $x < 0$\n",
    "Når $x < 0$, er $ |x| = -x $ og $ |x-1| = -(x-1) = -x+1 $.\n",
    "\n",
    "Ligningen bliver:\n",
    "$$\n",
    "(-x + 1)^2 = x^2 + (-x)\n",
    "$$\n",
    "Udvider venstresiden:\n",
    "$$\n",
    "x^2 - 2x + 1 = x^2 - x\n",
    "$$\n",
    "Trækker $x^2$ fra begge sider:\n",
    "$$\n",
    "-2x + 1 = -x\n",
    "$$\n",
    "Løser for $x$:\n",
    "$$\n",
    "1 = x\n",
    "$$\n",
    "Men $x = 1$ opfylder ikke $x < 0$, så der er ingen løsning i dette tilfælde.\n",
    "\n",
    "#### Samlet resultat\n",
    "Den eneste løsning, der opfylder alle betingelserne, er $x = \\frac{1}{3}$.\n",
    "\n",
    "Derfor er den entydige løsning:\n",
    "$$\n",
    "\\boxed{x = \\frac{1}{3}}\n",
    "$$"
   ]
  },
  {
   "cell_type": "markdown",
   "metadata": {},
   "source": [
    "## Opgave c)"
   ]
  },
  {
   "cell_type": "markdown",
   "metadata": {},
   "source": [
    "#### **Givet funktionen f : $R→R$ med forskriften**\n",
    "$$f(x) = 4x^2+ 4|x −1|.$$\n",
    "\n",
    "#### **1. Beregn funktionens værdimængde.**\n",
    "\n",
    "Vi skal beregne $Vm(f)$.\n",
    "\n",
    "For at finde værdimængden af funktionen $ f(x) = 4x^2 + 4|x - 1| $, betragter vi først, hvordan funktionen opfører sig for forskellige værdier af $ x $.\n",
    "\n",
    "- For $ x \\geq 1 $:\n",
    "  $$\n",
    "  f(x) = 4x^2 + 4(x - 1) = 4x^2 + 4x - 4\n",
    "  $$\n",
    "  Dette er en parabel, der åbner opad med toppunkt i $ x = -\\frac{b}{2a} = -\\frac{4}{8} = -\\frac{1}{2} $. Men da vi kun betragter $ x \\geq 1 $, vil funktionen stige uden grænse.\n",
    "\n",
    "- For $ x < 1 $:\n",
    "  $$\n",
    "  f(x) = 4x^2 + 4(1 - x) = 4x^2 - 4x + 4\n",
    "  $$\n",
    "  Dette er også en parabel, der åbner opad med toppunkt i $ x = \\frac{b}{2a} = \\frac{4}{8} = \\frac{1}{2} $. I dette interval vil funktionen stige uden grænse.\n",
    "\n",
    "Da begge dele af funktionen er kontinuerte og voksende, når $ x $ går mod uendelig, så vil værdimængden også være fra 0 (for $ x = 1 $) til uendeligt.\n",
    "\n",
    "Således er værdimængden for funktionen $ f(x) = 4x^2 + 4|x - 1| $ givet ved:\n",
    "$$\n",
    "\\boxed{Vm(f) = [3, \\infty[}\n",
    "$$\n",
    "\n",
    "#### **2. Afgør om funktionen er injektiv**\n",
    "\n",
    "En funktion er injektiv, hvis der for to vilkårlige punkter $ x_1 $ og $ x_2 $ i definitionsmængden gælder:\n",
    "$$\n",
    "f(x_1) = f(x_2) \\implies x_1 = x_2\n",
    "$$\n",
    "\n",
    "Men da funktionen består af to dele, der begge er kontinuerte og voksende for henholdsvis $ x \\geq 1 $ og $ x < 1 $, vil der altid findes to forskellige $ x $-værdier, der giver samme $ f(x) $.\n",
    "\n",
    "Således er funktionen **ikke** injektiv."
   ]
  },
  {
   "cell_type": "markdown",
   "metadata": {},
   "source": [
    "## Opgave d)"
   ]
  },
  {
   "cell_type": "markdown",
   "metadata": {},
   "source": [
    "#### **Der opgives for et komplekst tal $ z $ at $ \\arg(z) = -\\pi/3 $ og $ |z|= 2 $.**\n",
    "\n",
    "#### **1. Beregn de polære koordinater for det komplekse tal $z^7$.**\n",
    "#### **2. Skriv tallet $z^7$ på rektangulær form.**\n",
    "\n",
    "For at løse opgaven, skal vi først konvertere det givne komplekse tal $ z $ til polære koordinater og derefter beregne $ z^7 $.\n",
    "\n",
    "### Trin 1: Konvertering til polære koordinater\n",
    "Det givne komplekse tal $ z $ har en vinkel på $ -\\frac{\\pi}{3} $ og en størrelse (modulus) på 2. Polære koordinater for et komplekst tal er givet ved:\n",
    "$$ z = |z| \\cdot (\\cos(\\theta) + i\\sin(\\theta)) $$\n",
    "hvor $ |z| = 2 $ og $ \\theta = -\\frac{\\pi}{3} $.\n",
    "\n",
    "Dette giver os:\n",
    "$$ z = 2 \\left( \\cos\\left(-\\frac{\\pi}{3}\\right) + i\\sin\\left(-\\frac{\\pi}{3}\\right) \\right) $$\n",
    "\n",
    "Beregning af cos og sin:\n",
    "$$ \\cos\\left(-\\frac{\\pi}{3}\\right) = \\cos\\left(\\frac{\\pi}{3}\\right) = \\frac{1}{2} $$\n",
    "$$ \\sin\\left(-\\frac{\\pi}{3}\\right) = -\\sin\\left(\\frac{\\pi}{3}\\right) = -\\frac{\\sqrt{3}}{2} $$\n",
    "\n",
    "Så:\n",
    "$$ z = 2 \\left( \\frac{1}{2} - i\\frac{\\sqrt{3}}{2} \\right) = 1 - i\\sqrt{3} $$\n",
    "\n",
    "### Trin 2: Beregning af $ z^7 $\n",
    "For at beregne $ z^7 $ bruger vi DeMoivres formel, som siger:\n",
    "$$(r \\cdot (cos θ + i \\cdot sin θ))^n = r^n \\cdot (cos (nθ) + i \\cdot sin (nθ))$$\n",
    "Dvs.\n",
    "$$ z^n = |z|^n \\left( \\cos(n\\theta) + i\\sin(n\\theta) \\right) $$\n",
    "hvor $ n = 7 $, $ |z| = 2 $, og $ \\theta = -\\frac{\\pi}{3} $.\n",
    "\n",
    "Beregning af $ z^7 $:\n",
    "$$ z^7 = 2^7 \\left( \\cos\\left(7 \\cdot (-\\frac{\\pi}{3})\\right) + i\\sin\\left(7 \\cdot (-\\frac{\\pi}{3})\\right) \\right) $$\n",
    "\n",
    "Vi kan reducere vinklen:\n",
    "$$ Arg(z)=-\\frac{7\\pi}{3} + 2\\pi = -\\frac{7\\pi}{3} + \\frac{6\\pi}{3} = -\\frac{\\pi}{3} $$\n",
    "Så det er den samme vinkel, som vi startede med.\n",
    "\n",
    "Beregning af cos og sin:\n",
    "$$ \\cos\\left(-\\frac{7\\pi}{3}\\right) = \\cos\\left(\\frac{\\pi}{3}\\right) = \\frac{1}{2} $$\n",
    "$$ \\sin\\left(-\\frac{7\\pi}{3}\\right) = -\\sin\\left(\\frac{\\pi}{3}\\right) = -\\frac{\\sqrt{3}}{2} $$\n",
    "\n",
    "Så:\n",
    "$$ z^7 = 2^7 \\left( \\frac{1}{2} - i\\frac{\\sqrt{3}}{2} \\right) = 128 \\left( \\frac{1}{2} - i\\frac{\\sqrt{3}}{2} \\right) $$\n",
    "\n",
    "### Trin 3: Skriv $ z^7 $ på rektangulær form\n",
    "Vi multiplicerer koefficienterne med cos og sin:\n",
    "$$ z^7 = 128 \\left( \\frac{1}{2} - i\\frac{\\sqrt{3}}{2} \\right) = 64 - 64i\\sqrt{3} $$\n",
    "\n",
    "### Svar:\n",
    "1. De polære koordinater for $ z^7 $ er givet ved:\n",
    "   $$ z^7 = \\boxed{(128,\\left(-\\frac{\\pi}{3}\\right))} $$\n",
    "2. Det komplekse tal $ z^7 $ på rektangulær form er:\n",
    "   $$ z^7 = \\boxed{64 - 64i\\sqrt{3}} $$\n"
   ]
  },
  {
   "cell_type": "markdown",
   "metadata": {},
   "source": [
    "## Opgave e)"
   ]
  },
  {
   "attachments": {
    "image.png": {
     "image/png": "[encoded data removed]"
    }
   },
   "cell_type": "markdown",
   "metadata": {},
   "source": [
    "#### **Løs den binome ligning $z^3= i$. Svarene ønskes givet på rektangulær form samt indtegnet i den komplekse talplan.**\n",
    "\n",
    "Løsningen til ligningen kan findes ved at isolere $ z $. Vi starter med at skrive $ i $ på polær form, hvilket er $ i = e^{i\\pi/2} $. Således har vi:\n",
    "\n",
    "$$ z^3 = e^{i\\pi/2} $$\n",
    "\n",
    "Løsningen til denne ligning kan findes ved at tage 3. rod på begge sider:\n",
    "\n",
    "$$ z = e^{i(\\pi/2 + 2p\\pi)/3}, \\quad \\text{for} \\quad p = 0, 1, 2 $$\n",
    "\n",
    "Dette giver tre forskellige løsninger:\n",
    "\n",
    "1. For $ p = 0 $:\n",
    "$$ z_1 = e^{i((\\pi/2) + (2 \\cdot 0 \\cdot \\pi))/3} = e^{i(\\pi/6)} = \\cos(\\pi/6) + i\\sin(\\pi/6) = \\boxed{\\frac{\\sqrt{3}}{2} + i\\frac{1}{2}} $$\n",
    "\n",
    "2. For $ p = 1 $:\n",
    "$$ z_2 = e^{i((\\pi/2) + (2 \\cdot 1 \\cdot \\pi))/3} = \\cos(5\\pi/6) + i\\sin(5\\pi/6) = \\boxed{-\\frac{\\sqrt{3}}{2} + i\\frac{1}{2}} $$\n",
    "\n",
    "3. For $ p = 2 $:\n",
    "$$ z_3 = e^{i((\\pi/2) + (2 \\cdot 2 \\cdot \\pi))/3} = e^{i((\\pi/2) + (4 \\cdot \\pi))/3} = \\cos(5\\pi/3) + i\\sin(5\\pi/3) = \\boxed{ -i} $$\n",
    "\n",
    "Disse løsninger kan nu indtegnes i den komplekse talplan.\n",
    "\n",
    "![image.png](attachment:image.png)"
   ]
  },
  {
   "cell_type": "markdown",
   "metadata": {},
   "source": [
    "## Opgave f)"
   ]
  },
  {
   "cell_type": "markdown",
   "metadata": {},
   "source": [
    "#### **Som sædvanligt betegnes hovedargument af et komplekst tal $z$ med $Arg(z)$. Afgør om følgende udsagn er sande:**\n",
    "\n",
    "#### 1. $ \\text{Im}(z) > 0 \\Rightarrow \\text{Arg}(z) > 0 $\n",
    "\n",
    "For at $ \\text{Arg}(z) > 0 $, skal punktet $ (a, b) $ befinde sig i første eller anden kvadrant. Det vil det altid gøre, hvis  $Im(z)>0$.\n",
    "\n",
    "Udsagnet er altså sandt.\n",
    "\n",
    "#### 2. $ \\text{Arg}(z) \\leq 0 \\Rightarrow \\text{Im}(z) \\leq 0 $\n",
    "\n",
    "- Hvis $ \\text{Arg}(z) = 0 $, så ligger $ z $ på den reelle akse, og $ \\text{Im}(z) = 0 $.\n",
    "- Hvis $ \\text{Arg}(z) < 0 $, så ligger $ z $ i tredje eller fjerde kvadrant.\n",
    "\n",
    "For at $ \\text{Arg}(z) \\leq 0 $, skal punktet $ (a, b) $ befinde sig i tredje eller fjerde kvadrant.\n",
    "\n",
    "Udsagnet passer altså.\n",
    "\n",
    "#### 3. $ \\text{Im}(z) = 0 \\Rightarrow \\text{Arg}(z) = 0 $\n",
    "\n",
    "Dette udsagn siger, at hvis den imaginære del af $ z $ er nul, så er argumentet for $ z $ nul. Dette passer ikke, da $Arg(z)=\\pi$ også kan gælde for et komplekst tal med $Im(z)=0$.\n",
    "\n",
    "#### Konklusion\n",
    "\n",
    "Kun de første to udsagn er sande. Det sidste passer ikke.\n",
    "\n"
   ]
  }
 ],
 "metadata": {
  "kernelspec": {
   "display_name": "base",
   "language": "python",
   "name": "python3"
  },
  "language_info": {
   "codemirror_mode": {
    "name": "ipython",
    "version": 3
   },
   "file_extension": ".py",
   "mimetype": "text/x-python",
   "name": "python",
   "nbconvert_exporter": "python",
   "pygments_lexer": "ipython3",
   "version": "3.12.4"
  }
 },
 "nbformat": 4,
 "nbformat_minor": 2
}
