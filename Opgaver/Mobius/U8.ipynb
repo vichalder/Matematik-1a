{
 "cells": [
  {
   "cell_type": "code",
   "execution_count": 5,
   "metadata": {},
   "outputs": [],
   "source": [
    "import numpy as np"
   ]
  },
  {
   "cell_type": "code",
   "execution_count": null,
   "metadata": {},
   "outputs": [
    {
     "name": "stdout",
     "output_type": "stream",
     "text": [
      "[[ 7  2]\n",
      " [ 1 -2]]\n"
     ]
    }
   ],
   "source": [
    "A = np.array([[1,3],[-1,1]])\n",
    "B = np.array([[1,2],[2,0]])\n",
    "print(A.dot(B))"
   ]
  },
  {
   "cell_type": "code",
   "execution_count": null,
   "metadata": {},
   "outputs": [
    {
     "name": "stdout",
     "output_type": "stream",
     "text": [
      "[[-8]\n",
      " [16]]\n"
     ]
    }
   ],
   "source": [
    "A = np.array( [[5,1,4], \n",
    "               [1,7,-1]] )\n",
    "b = np.array([[3],\n",
    "              [1],\n",
    "              [-6]])\n",
    "print(A.dot(b))"
   ]
  },
  {
   "cell_type": "code",
   "execution_count": 20,
   "metadata": {},
   "outputs": [
    {
     "name": "stdout",
     "output_type": "stream",
     "text": [
      "3\n"
     ]
    }
   ],
   "source": [
    "A = np.array([[complex(0,1),complex(0,1),-1],\n",
    "              [complex(0,1),complex(0,1),complex(0,1)],\n",
    "              [1,complex(0,1),complex(0,1)]])\n",
    "\n",
    "print(np.linalg.matrix_rank(A))"
   ]
  },
  {
   "cell_type": "code",
   "execution_count": 19,
   "metadata": {},
   "outputs": [
    {
     "name": "stdout",
     "output_type": "stream",
     "text": [
      "[[ 0.  1.]\n",
      " [ 1. -8.]]\n"
     ]
    }
   ],
   "source": [
    "A = np.array([[8,1],[1,0]])\n",
    "print(np.linalg.inv(A))"
   ]
  },
  {
   "cell_type": "code",
   "execution_count": null,
   "metadata": {},
   "outputs": [
    {
     "name": "stdout",
     "output_type": "stream",
     "text": [
      "16.000000000000007\n"
     ]
    }
   ],
   "source": [
    "A = np.array([[1,3,1],\n",
    "              [3,0,-2],\n",
    "              [1,-1,-3]])\n",
    "print(np.linalg.det(A))"
   ]
  },
  {
   "cell_type": "code",
   "execution_count": 27,
   "metadata": {},
   "outputs": [
    {
     "name": "stdout",
     "output_type": "stream",
     "text": [
      "-9.000000000000002\n",
      "18.000000000000004\n",
      "-162.00000000000009\n",
      "-0.11111111111111115\n"
     ]
    }
   ],
   "source": [
    "A = np.array([[3,0,0],\n",
    "              [-3,3,0],\n",
    "              [-3,-4,-1]])\n",
    "B = np.array([[3,-2,3],\n",
    "              [0,3,3],\n",
    "              [0,0,2]])\n",
    "\n",
    "print(np.linalg.det(A))\n",
    "print(np.linalg.det(B))\n",
    "print(np.linalg.det(A.dot(B)))\n",
    "print(np.linalg.det(np.linalg.inv(A)))"
   ]
  },
  {
   "cell_type": "code",
   "execution_count": 29,
   "metadata": {},
   "outputs": [
    {
     "name": "stdout",
     "output_type": "stream",
     "text": [
      "[[3 0 0]\n",
      " [0 4 4]\n",
      " [0 0 1]]\n",
      "12.0\n"
     ]
    }
   ],
   "source": [
    "A = np.array([[1,2,-2],\n",
    "              [-2,1,-2],\n",
    "              [-1,-4,2]])\n",
    "B = np.array([[2,-2,2],\n",
    "              [2,3,6],\n",
    "              [1,4,-1]])\n",
    "print(A+B)\n",
    "print(np.linalg.det(A+B))"
   ]
  },
  {
   "cell_type": "code",
   "execution_count": 49,
   "metadata": {},
   "outputs": [
    {
     "name": "stdout",
     "output_type": "stream",
     "text": [
      "[[ 0  1  7]\n",
      " [ 7  5  2]\n",
      " [ 0 -4  0]]\n",
      "-195.99999999999991\n",
      "[[ 0  1  7]\n",
      " [ 7  5  2]\n",
      " [ 0 -4  0]]\n",
      "-195.99999999999991\n",
      "[[ 0  1  7]\n",
      " [ 7  5  2]\n",
      " [ 0 -4  0]]\n",
      "-195.99999999999991\n",
      "[[ 0  1  7]\n",
      " [ 7  5  2]\n",
      " [ 0 -4  0]]\n",
      "-195.99999999999991\n",
      "[[ 0  1  7]\n",
      " [ 7  5  2]\n",
      " [ 0 -4  0]]\n",
      "-195.99999999999991\n"
     ]
    }
   ],
   "source": [
    "x = 0\n",
    "a = np.array([[0],\n",
    "              [7],\n",
    "              [0]])\n",
    "b = np.array([[1],\n",
    "              [5],\n",
    "              [-4]])\n",
    "c = np.array([[7],\n",
    "              [2],\n",
    "              [x]])\n",
    "T = np.concatenate((a, b, c), axis = 1)\n",
    "\n",
    "for i in range(5):\n",
    "    print(T)\n",
    "    print(np.linalg.det(T))\n",
    "    x=x+1\n",
    "\n"
   ]
  }
 ],
 "metadata": {
  "kernelspec": {
   "display_name": "base",
   "language": "python",
   "name": "python3"
  },
  "language_info": {
   "codemirror_mode": {
    "name": "ipython",
    "version": 3
   },
   "file_extension": ".py",
   "mimetype": "text/x-python",
   "name": "python",
   "nbconvert_exporter": "python",
   "pygments_lexer": "ipython3",
   "version": "3.12.4"
  }
 },
 "nbformat": 4,
 "nbformat_minor": 2
}
