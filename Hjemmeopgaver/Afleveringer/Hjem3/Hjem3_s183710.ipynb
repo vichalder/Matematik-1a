{
 "cells": [
  {
   "cell_type": "markdown",
   "metadata": {},
   "source": [
    "# <center>Hjemmeopgave 3 - Matematik 1a\n",
    "#### <center>Victor Jonathan Hald\n",
    "#### <center>s183710\n",
    "#### <center>10-11-2024"
   ]
  },
  {
   "cell_type": "markdown",
   "metadata": {},
   "source": [
    "## Opgave a)"
   ]
  },
  {
   "cell_type": "markdown",
   "metadata": {},
   "source": [
    "Beregn rangen af følgende matrix:\n",
    "$$\n",
    "A = \\begin{bmatrix}\n",
    "2 & 2 & 0 \\\\\n",
    "-1 & 1 & 2 \\\\\n",
    "0 & 2 & 2 \\\\\n",
    "0 & 1 & 1\n",
    "\\end{bmatrix}\n",
    "$$"
   ]
  },
  {
   "cell_type": "markdown",
   "metadata": {},
   "source": [
    "Vi sætter på reduceret trappeform:\n",
    "\n",
    "Vi starter med at dividere række 1 og række 3 med 2, og derefter lægge række 1 til række 2:\n",
    "$$\n",
    "\\begin{bmatrix}\n",
    "1 & 1 & 0 \\\\\n",
    "0 & 2 & 2 \\\\\n",
    "0 & 1 & 1 \\\\\n",
    "0 & 1 & 1\n",
    "\\end{bmatrix}\n",
    "$$"
   ]
  },
  {
   "cell_type": "markdown",
   "metadata": {},
   "source": [
    "Nu dividerer vi række 2 med 2, og trækker række 2 fra række 3 og 4:\n",
    "$$\n",
    "\\begin{bmatrix}\n",
    "1 & 1 & 0 \\\\\n",
    "0 & 1 & 1 \\\\\n",
    "0 & 0 & 0 \\\\\n",
    "0 & 0 & 0\n",
    "\\end{bmatrix}\n",
    "$$"
   ]
  },
  {
   "cell_type": "markdown",
   "metadata": {},
   "source": [
    "Vi har nu 2 ledende 1-taller og to nulrækker. Derfor er $rang(A) = 2$."
   ]
  },
  {
   "cell_type": "markdown",
   "metadata": {},
   "source": [
    "## Opgave b)"
   ]
  },
  {
   "cell_type": "markdown",
   "metadata": {},
   "source": [
    "Givet et homogent lineært ligningssystem over $\\mathbb{R}$ med fire ligninger med tre ubekendte. Det\n",
    "oplyses at nedenstående to vektorer\n",
    "$\n",
    "v_1 = \\begin{bmatrix}\n",
    "    1 \\\\ \n",
    "    -1 \\\\ \n",
    "    0\n",
    "    \\end{bmatrix}\n",
    "$\n",
    "og \n",
    "$\n",
    "v_2 = \\begin{bmatrix}\n",
    "    1 \\\\ \n",
    "    1 \\\\ \n",
    "    1\n",
    "    \\end{bmatrix}\n",
    "$\n",
    "er løsninger til systemet."
   ]
  },
  {
   "cell_type": "markdown",
   "metadata": {},
   "source": [
    "#### 1.\n",
    "Kan det afgøres om vektoren \n",
    "$\n",
    "v = \\begin{bmatrix}\n",
    "    1 \\\\ \n",
    "    -5 \\\\ \n",
    "    -2\n",
    "    \\end{bmatrix}\n",
    "$\n",
    "er en løsning til systemet?\n"
   ]
  },
  {
   "cell_type": "markdown",
   "metadata": {},
   "source": [
    "Vi bruger $v_1$ og $v_2$ til at tjekke:\n",
    "$$\n",
    "x_1 + x_2 = 1\n",
    "$$\n",
    "$$\n",
    "-x_1 + x_2 = -5\n",
    "$$\n",
    "$$\n",
    "x_2 = -2\n",
    "$$\n",
    "\n",
    "Vi ser at $x_2=-2$. Dette kan vi indsætte i ligning 1:\n",
    "$$\n",
    "x_1 + (-2) = 1 -> x_1 = 3\n",
    "$$\n",
    "Vi tjekker nu ligning 2:\n",
    "$$\n",
    "-x_1 + x_2 = -3 + (-2) = -5\n",
    "$$\n",
    "Vi tester:\n",
    "$$\n",
    "3 \\cdot v_1 -2 \\cdot v_2 = 3 \\cdot \\begin{bmatrix} 1 \\\\ -1 \\\\ 0\\end{bmatrix} - 2\\cdot \\begin{bmatrix} 1 \\\\ 1 \\\\ 1 \\end{bmatrix} = \\begin{bmatrix} 3 \\\\ -3 \\\\ 0\\end{bmatrix} - \\begin{bmatrix} 2 \\\\ 2 \\\\ 2 \\end{bmatrix} = \\begin{bmatrix}1 \\\\ -5 \\\\ -2\\end{bmatrix}\n",
    "$$\n",
    "Vi har altså en løsning, da vi får den samme vektor igen."
   ]
  },
  {
   "cell_type": "markdown",
   "metadata": {},
   "source": [
    "#### 2.\n",
    "Kan det afgøres om vektoren \n",
    "$\n",
    "v = \\begin{bmatrix}\n",
    "    1 \\\\ \n",
    "    -5 \\\\ \n",
    "    1\n",
    "    \\end{bmatrix}\n",
    "$\n",
    "er en løsning til systemet?"
   ]
  },
  {
   "cell_type": "markdown",
   "metadata": {},
   "source": [
    "Vi bruger $v_1$ og $v_2$ til at tjekke:\n",
    "$$\n",
    "x_1 + x_2 = 1\n",
    "$$\n",
    "$$\n",
    "-x_1 + x_2 = -5\n",
    "$$\n",
    "$$\n",
    "x_2 = 1\n",
    "$$\n",
    "\n",
    "Vi ser at $x_2=1$. Dette kan vi indsætte i ligning 1:\n",
    "$$\n",
    "x_1 + 1 = 1 -> x_1 = 0\n",
    "$$\n",
    "Vi tjekker nu ligning 2:\n",
    "$$\n",
    "-x_1 + x_2 = 0 + 1 = 1\n",
    "$$\n",
    "Vi tester:\n",
    "$$\n",
    "0 \\cdot v_1 + 1 \\cdot v_2 = \\begin{bmatrix} 1 \\\\ 1 \\\\ 1 \\end{bmatrix}\n",
    "$$\n",
    "Vi har altså ikke en løsning, da vi ikke får den samme vektor igen."
   ]
  },
  {
   "cell_type": "markdown",
   "metadata": {},
   "source": [
    "## c)"
   ]
  },
  {
   "cell_type": "markdown",
   "metadata": {},
   "source": [
    "Bestem om følgende 3 vektorer i $\\mathbb{R^4}$ er lineært uafhængige:\n",
    "$$\n",
    "\\begin{bmatrix}\n",
    "3 \\\\\n",
    "2 \\\\\n",
    "1 \\\\\n",
    "1\n",
    "\\end{bmatrix},\n",
    "\\begin{bmatrix}\n",
    "-1 \\\\\n",
    "2 \\\\\n",
    "5 \\\\\n",
    "-3\n",
    "\\end{bmatrix},\n",
    "\\begin{bmatrix}\n",
    "1 \\\\\n",
    "2 \\\\\n",
    "3 \\\\\n",
    "-1\n",
    "\\end{bmatrix}\n",
    "$$"
   ]
  },
  {
   "cell_type": "markdown",
   "metadata": {},
   "source": [
    "Vi sætter totalmatricen på trappeform:\n",
    "$$\n",
    "A = \\begin{bmatrix}\n",
    "3 & -1 & 1 \\\\\n",
    "2 & 2 & 2 \\\\\n",
    "1 & 5 & 3 \\\\\n",
    "1 & -3 & -1\n",
    "\\end{bmatrix}\n",
    "$$\n",
    "$$R1-3 \\cdot R4, R2-2 \\cdot R4, R3-R4$$\n",
    "$$\n",
    "A = \\begin{bmatrix}\n",
    "0 & 8 & 4 \\\\\n",
    "0 & 8 & 4 \\\\\n",
    "0 & 8 & 4 \\\\\n",
    "1 & -3 & -1\n",
    "\\end{bmatrix}\n",
    "$$\n",
    "$$R1-R2, R3-R2, R2/8$$\n",
    "$$\n",
    "A = \\begin{bmatrix}\n",
    "0 & 0 & 0 \\\\\n",
    "0 & 1 & \\frac{1}{2} \\\\\n",
    "0 & 0 & 0 \\\\\n",
    "1 & -3 & -1\n",
    "\\end{bmatrix}\n",
    "$$\n",
    "$$R4+3R2$$\n",
    "$$\n",
    "A = \\begin{bmatrix}\n",
    "0 & 0 & 0 \\\\\n",
    "0 & 1 & \\frac{1}{2} \\\\\n",
    "0 & 0 & 0 \\\\\n",
    "1 & 0 & \\frac{1}{2}\n",
    "\\end{bmatrix}\n",
    "$$\n",
    "$$R1 <-> R4$$\n",
    "$$\n",
    "A = \\begin{bmatrix}\n",
    "1 & 0 & \\frac{1}{2} \\\\\n",
    "0 & 1 & \\frac{1}{2} \\\\\n",
    "0 & 0 & 0 \\\\\n",
    "0 & 0 & 0 \\\\\n",
    "\\end{bmatrix}\n",
    "$$"
   ]
  },
  {
   "cell_type": "markdown",
   "metadata": {},
   "source": [
    "Vi ser, at rangen af $A$ er 2. Da rangen af matricen er mindre end antallet af søjler, er de tre vektorer lineært afhængige."
   ]
  },
  {
   "cell_type": "markdown",
   "metadata": {},
   "source": [
    "## Opogave d)"
   ]
  },
  {
   "cell_type": "markdown",
   "metadata": {},
   "source": [
    "Lad $n$ være et naturligt tal og lad $A$ og $B$ være to $n × n$ matricer.\n",
    "\n",
    "Vis identiteten $((A + B)^2)^T = (A^T + B^T )^2$"
   ]
  },
  {
   "cell_type": "markdown",
   "metadata": {},
   "source": [
    "Lad bruge et par eksempler til at vise identiteten.\n",
    "\n",
    "$$\n",
    "A = \\begin(matrix) \n"
   ]
  }
 ],
 "metadata": {
  "language_info": {
   "name": "python"
  }
 },
 "nbformat": 4,
 "nbformat_minor": 2
}
