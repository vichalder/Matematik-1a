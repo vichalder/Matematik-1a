{
 "cells": [
  {
   "cell_type": "markdown",
   "metadata": {},
   "source": [
    "# <center>Hjemmeopgave 4 - Matematik 1a\n",
    "#### <center>Victor Jonathan Hald\n",
    "#### <center>s183710\n",
    "#### <center>31-11-2024"
   ]
  },
  {
   "cell_type": "markdown",
   "metadata": {},
   "source": [
    "## Opgave a)"
   ]
  },
  {
   "cell_type": "markdown",
   "metadata": {},
   "source": [
    "Lad $V$ være det komplekse vektorrum $\\mathbb{C^{2×4}}$ bestående af $2 × 4$ matricer med komplekse\n",
    "koefficienter. Har $V$ et komplekst underrum af dimension $9$?"
   ]
  },
  {
   "cell_type": "markdown",
   "metadata": {},
   "source": [
    "$$\n",
    "V = \\begin{bmatrix}\n",
    "z_1 & z_5 \\\\\n",
    "z_2 & z_6 \\\\\n",
    "z_3 & z_7 \\\\\n",
    "z_4 & z_8\n",
    "\\end{bmatrix}\n",
    "$$"
   ]
  },
  {
   "cell_type": "markdown",
   "metadata": {},
   "source": [
    " Lad os betragte det komplekse vektorrum $ V $ som er defineret som $\\mathbb{C}^{2 \\times 4}$, hvilket består af alle $2 \\times 4$ matricer med komplekse koefficienter. Vi ønsker at undersøge, om der findes et underrum $ W $ i $ V $ med en dimension på 9.\n",
    "\n",
    "Først beregner vi den totale dimension af $ V $:\n",
    "$$\n",
    "V = \\mathbb{C}^{2 \\times 4}\n",
    "$$\n",
    "Da hver indgang i matricen er kompleks, har vi:\n",
    "$$\n",
    "\\text{Dimension af } V = 2 \\times 4 = 8\n",
    "$$\n",
    "\n",
    "Nu skal vi finde ud af, om der kan eksistere et underrum $ W $ i $ V $ med en dimension på 9. Men siden dimensionen af $ V $ kun er 8, hvilket er mindre end 9, så er det umuligt at have et underrum med en dimension større end 8.\n",
    "\n",
    "Derfor kan der ikke eksistere noget underrum $ W $ i $ V $ med en dimension på 9 eller mere, fordi den maksimale dimension af et underrum i $ V $ er 8."
   ]
  },
  {
   "cell_type": "markdown",
   "metadata": {},
   "source": [
    "## Opgave b)"
   ]
  },
  {
   "cell_type": "markdown",
   "metadata": {},
   "source": [
    "Lad W være udspændt af følgende vektorer i $\\mathbb{R^4}$:\n",
    "$$\n",
    "v_1 = \\begin{bmatrix}\n",
    "2 \\\\\n",
    "-2 \\\\\n",
    "0 \\\\\n",
    "4\n",
    "\\end{bmatrix}\n",
    ",\n",
    "v_2 = \\begin{bmatrix}\n",
    "3 \\\\\n",
    "4 \\\\\n",
    "5 \\\\\n",
    "0\n",
    "\\end{bmatrix}\n",
    ",\n",
    "v_3 = \\begin{bmatrix}\n",
    "0 \\\\\n",
    "-7 \\\\\n",
    "-5 \\\\\n",
    "6\n",
    "\\end{bmatrix}\n",
    "$$\n",
    "Angiv en basis for $W$ og beregn $dim_\\mathbb{R}(W)$."
   ]
  },
  {
   "cell_type": "markdown",
   "metadata": {},
   "source": [
    "For at finde en basis skal vi undersøge om vektorerne er lineært uafhængige. Hvis der findes lineært <strong>afhængige</strong> vektorer skal vi fjerne dem for at få en basis. \n",
    "\n",
    "Vi undersøger dette ved at sætte vektorerne ind i en matrix og reducere den til reduced row echelon form.\n",
    "\\begin{aligned}\n",
    "A =& \\begin{bmatrix}\n",
    "2 & 3 & 0 \\\\\n",
    "-2 & 4 & -7 \\\\\n",
    "0 & 5 & -5 \\\\\n",
    "4 & 0 & 6\n",
    "\\end{bmatrix}\n",
    "\\\\\n",
    "& R2+R1, \\quad R4-2 \\cdot R1\n",
    "\\\\\n",
    "& \\begin{bmatrix}\n",
    "2 & 3 & 0 \\\\\n",
    "0 & 7 & -7 \\\\\n",
    "0 & 5 & -5 \\\\\n",
    "0 & -6 & 6\n",
    "\\end{bmatrix}\n",
    "\\\\\n",
    "& \\frac{R1}{2}, \\quad \\frac{R2}{7}, \\quad \\frac{R3}{5}, \\quad \\frac{R4}{-6}\n",
    "\\\\\n",
    "& \\begin{bmatrix}\n",
    "1 & \\frac{3}{2} & 0 \\\\\n",
    "0 & 1 & -1 \\\\\n",
    "0 & 1 & -1 \\\\\n",
    "0 & -1 & 1\n",
    "\\end{bmatrix}\n",
    "\\\\\n",
    "& R1-\\frac{3}{2} \\cdot R2, \\quad R3-R2, \\quad R4+R2\n",
    "\\\\\n",
    "& \\begin{bmatrix}\n",
    "1 & 0 & \\frac{3}{2} \\\\\n",
    "0 & 1 & -1 \\\\\n",
    "0 & 0 & 0 \\\\\n",
    "0 & 0 & 0\n",
    "\\end{bmatrix}\n",
    "\\end{aligned}\n",
    "\n",
    "Vi ser at "
   ]
  }
 ],
 "metadata": {
  "language_info": {
   "name": "python"
  }
 },
 "nbformat": 4,
 "nbformat_minor": 2
}
