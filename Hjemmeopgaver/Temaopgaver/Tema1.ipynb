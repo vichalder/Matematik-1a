{
 "cells": [
  {
   "cell_type": "markdown",
   "metadata": {},
   "source": [
    "# Temaopgave 1"
   ]
  },
  {
   "cell_type": "markdown",
   "metadata": {},
   "source": [
    "## Del I"
   ]
  },
  {
   "cell_type": "code",
   "execution_count": 3,
   "metadata": {},
   "outputs": [
    {
     "data": {
      "text/plain": [
       "(2+3j)"
      ]
     },
     "execution_count": 3,
     "metadata": {},
     "output_type": "execute_result"
    }
   ],
   "source": [
    "import cmath\n",
    "\n",
    "z = complex(2,3)\n",
    "\n",
    "z"
   ]
  },
  {
   "cell_type": "code",
   "execution_count": null,
   "metadata": {},
   "outputs": [],
   "source": [
    "j*j"
   ]
  },
  {
   "cell_type": "code",
   "execution_count": 12,
   "metadata": {},
   "outputs": [
    {
     "data": {
      "text/plain": [
       "(2.0, 3.0)"
      ]
     },
     "execution_count": 12,
     "metadata": {},
     "output_type": "execute_result"
    }
   ],
   "source": [
    "(z.real, z.imag)"
   ]
  },
  {
   "cell_type": "code",
   "execution_count": 14,
   "metadata": {},
   "outputs": [
    {
     "name": "stdout",
     "output_type": "stream",
     "text": [
      "(-2-3j)\n",
      "(0.15384615384615385-0.23076923076923078j)\n",
      "(0.15384615384615385-0.23076923076923078j)\n"
     ]
    }
   ],
   "source": [
    "print(-z)\n",
    "print(1/z)\n",
    "print(z**-1)"
   ]
  },
  {
   "cell_type": "code",
   "execution_count": 16,
   "metadata": {},
   "outputs": [
    {
     "data": {
      "text/plain": [
       "(-7+22j)"
      ]
     },
     "execution_count": 16,
     "metadata": {},
     "output_type": "execute_result"
    }
   ],
   "source": [
    "w = complex(4,5)\n",
    "\n",
    "z*w"
   ]
  },
  {
   "cell_type": "code",
   "execution_count": 19,
   "metadata": {},
   "outputs": [
    {
     "name": "stdout",
     "output_type": "stream",
     "text": [
      "(3.605551275463989, 0.982793723247329)\n",
      "Modulus = 0.982793723247329\n"
     ]
    }
   ],
   "source": [
    "print(cmath.polar(z))\n",
    "\n",
    "modulus_z = cmath.polar(z)[1]\n",
    "\n",
    "print(\"Modulus =\", modulus_z)"
   ]
  },
  {
   "cell_type": "code",
   "execution_count": 26,
   "metadata": {},
   "outputs": [
    {
     "name": "stdout",
     "output_type": "stream",
     "text": [
      "(1.4142135623730951, 0.7853981633974483)\n",
      "Arg(1+i) = 1.4142135623730951\n"
     ]
    }
   ],
   "source": [
    "tal1 = complex(1,1)\n",
    "\n",
    "print(cmath.polar(tal1))\n",
    "\n",
    "Arg1 = cmath.polar(tal1)[0]\n",
    "\n",
    "print(\"Arg(1+i) =\", Arg1)\n"
   ]
  },
  {
   "cell_type": "markdown",
   "metadata": {},
   "source": [
    "## Del II"
   ]
  },
  {
   "cell_type": "code",
   "execution_count": 72,
   "metadata": {},
   "outputs": [
    {
     "name": "stdout",
     "output_type": "stream",
     "text": [
      "w = (8-13.856406460551018j)\n",
      "w^-4 = (1.9318516525781366-0.5176380902050415j)\n",
      "Modulus = 15.999999999999998\n",
      "arg(w) = -1.0471975511965976\n"
     ]
    }
   ],
   "source": [
    "n = 4\n",
    "w = complex(8,-(8*3**(1/2)))\n",
    "print(\"w =\",w)\n",
    "v = w**(1/4)\n",
    "print(\"w^-4 =\",v)\n",
    "\n",
    "modulus = cmath.polar(w)[0]\n",
    "print(\"Modulus =\", modulus)\n",
    "arg = cmath.polar(w)[1]\n",
    "print(\"arg(w) =\", arg)\n"
   ]
  },
  {
   "cell_type": "code",
   "execution_count": 79,
   "metadata": {},
   "outputs": [
    {
     "name": "stdout",
     "output_type": "stream",
     "text": [
      "(1.995717846477207-0.13080625846028612j)\n",
      "(1.3475723666237662-0.08832455930264739j)\n",
      "(0.9099238584720036-0.05963956058245786j)\n",
      "(0.6144096218676326-0.04027053420420575j)\n"
     ]
    }
   ],
   "source": [
    "p = 0\n",
    "\n",
    "for i in range(4):\n",
    "    z = (modulus * cmath.exp(complex(0, (arg/n) + complex(0, p*(2*cmath.pi)/n))))**(1/4)\n",
    "    p = p+1\n",
    "    print(z)"
   ]
  }
 ],
 "metadata": {
  "kernelspec": {
   "display_name": "base",
   "language": "python",
   "name": "python3"
  },
  "language_info": {
   "codemirror_mode": {
    "name": "ipython",
    "version": 3
   },
   "file_extension": ".py",
   "mimetype": "text/x-python",
   "name": "python",
   "nbconvert_exporter": "python",
   "pygments_lexer": "ipython3",
   "version": "3.12.4"
  }
 },
 "nbformat": 4,
 "nbformat_minor": 2
}
