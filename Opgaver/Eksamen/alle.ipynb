{
 "cells": [
  {
   "cell_type": "markdown",
   "metadata": {},
   "source": [
    "\n",
    "To solve the equation $ |x-2| = |x+5| + 1 $, we need to consider the different cases for the absolute values. The critical points where the expressions inside the absolute values change sign are $ x = -5 $ and $ x = 2 $. We will analyze the equation in the intervals determined by these points: $ (-\\infty, -5] $, $ (-5, 2] $, and $ (2, \\infty) $.\n",
    "\n",
    "**Case 1: $ x \\leq -5 $**\n",
    "\n",
    "In this interval, both $ x-2 $ and $ x+5 $ are negative or zero. Therefore, we have:\n",
    "$$ |x-2| = -(x-2) = -x + 2 $$\n",
    "$$ |x+5| = -(x+5) = -x - 5 $$\n",
    "Substituting these into the equation gives:\n",
    "$$ -x + 2 = -x - 5 + 1 $$\n",
    "Simplifying the right side, we get:\n",
    "$$ -x + 2 = -x - 4 $$\n",
    "Adding $ x $ to both sides, we obtain:\n",
    "$$ 2 = -4 $$\n",
    "This is a contradiction, so there are no solutions in the interval $ (-\\infty, -5] $.\n",
    "\n",
    "**Case 2: $ -5 < x \\leq 2 $**\n",
    "\n",
    "In this interval, $ x-2 $ is negative or zero, and $ x+5 $ is positive. Therefore, we have:\n",
    "$$ |x-2| = -(x-2) = -x + 2 $$\n",
    "$$ |x+5| = x + 5 $$\n",
    "Substituting these into the equation gives:\n",
    "$$ -x + 2 = x + 5 + 1 $$\n",
    "Simplifying the right side, we get:\n",
    "$$ -x + 2 = x + 6 $$\n",
    "Adding $ x $ to both sides, we obtain:\n",
    "$$ 2 = 2x + 6 $$\n",
    "Subtracting 6 from both sides, we get:\n",
    "$$ -4 = 2x $$\n",
    "Dividing both sides by 2, we obtain:\n",
    "$$ x = -2 $$\n",
    "We need to check if $ x = -2 $ is within the interval $ (-5, 2] $. Since it is, $ x = -2 $ is a solution.\n",
    "\n",
    "**Case 3: $ x > 2 $**\n",
    "\n",
    "In this interval, both $ x-2 $ and $ x+5 $ are positive. Therefore, we have:\n",
    "$$ |x-2| = x - 2 $$\n",
    "$$ |x+5| = x + 5 $$\n",
    "Substituting these into the equation gives:\n",
    "$$ x - 2 = x + 5 + 1 $$\n",
    "Simplifying the right side, we get:\n",
    "$$ x - 2 = x + 6 $$\n",
    "Subtracting $ x $ from both sides, we obtain:\n",
    "$$ -2 = 6 $$\n",
    "This is a contradiction, so there are no solutions in the interval $ (2, \\infty) $.\n",
    "\n",
    "Combining the results from all cases, the only solution to the equation $ |x-2| = |x+5| + 1 $ is $ x = -2 $.\n",
    "\n",
    "Thus, the solution is:\n",
    "$$ \\boxed{-2} $$"
   ]
  }
 ],
 "metadata": {
  "language_info": {
   "name": "python"
  }
 },
 "nbformat": 4,
 "nbformat_minor": 2
}
