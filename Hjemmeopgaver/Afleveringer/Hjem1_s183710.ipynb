{
 "cells": [
  {
   "cell_type": "markdown",
   "metadata": {},
   "source": [
    "# Hjemmeopgave 1 - s183710\n"
   ]
  },
  {
   "cell_type": "markdown",
   "metadata": {},
   "source": [
    "Opgave a) Afgør om følgende to logiske udsagn er logisk ækvivalente:\n",
    "\n",
    "(P ∧ Q) ⇒ R og ¬P ∨ (Q ⇒ R)\n",
    "\n",
    "Vi laver vores sandhedstabel."
   ]
  },
  {
   "cell_type": "code",
   "execution_count": 36,
   "metadata": {},
   "outputs": [
    {
     "name": "stdout",
     "output_type": "stream",
     "text": [
      "╒═════╤═════╤═════╤══════╤═══════════╤═══════════════╕\n",
      "│   P │   Q │   R │   ¬P │   (P ∧ Q) │   (P ∧ Q) ⇒ R │\n",
      "╞═════╪═════╪═════╪══════╪═══════════╪═══════════════╡\n",
      "│   1 │   1 │   1 │    0 │         1 │             1 │\n",
      "├─────┼─────┼─────┼──────┼───────────┼───────────────┤\n",
      "│   0 │   1 │   1 │    1 │         0 │             1 │\n",
      "├─────┼─────┼─────┼──────┼───────────┼───────────────┤\n",
      "│   1 │   0 │   1 │    0 │         0 │             1 │\n",
      "├─────┼─────┼─────┼──────┼───────────┼───────────────┤\n",
      "│   0 │   0 │   1 │    1 │         1 │             0 │\n",
      "├─────┼─────┼─────┼──────┼───────────┼───────────────┤\n",
      "│   1 │   1 │   0 │    0 │         1 │             0 │\n",
      "├─────┼─────┼─────┼──────┼───────────┼───────────────┤\n",
      "│   0 │   1 │   0 │    1 │         0 │             1 │\n",
      "├─────┼─────┼─────┼──────┼───────────┼───────────────┤\n",
      "│   1 │   0 │   0 │    0 │         0 │             1 │\n",
      "├─────┼─────┼─────┼──────┼───────────┼───────────────┤\n",
      "│   0 │   0 │   0 │    1 │         1 │             0 │\n",
      "╘═════╧═════╧═════╧══════╧═══════════╧═══════════════╛\n"
     ]
    }
   ],
   "source": [
    "import numpy as np\n",
    "from tabulate import tabulate\n",
    "\n",
    "del1 = np.array([[1,0,1,0,1,0,1,0],\n",
    "               [1,1,0,0,1,1,0,0],\n",
    "               [1,1,1,1,0,0,0,0],\n",
    "               [0,1,0,1,0,1,0,1],\n",
    "               [1,0,0,1,1,0,0,1],\n",
    "               [1,1,1,0,0,1,1,0]])\n",
    "beskrivelse = [\"P\", \"Q\", \"R\", \"¬P\", \"(P ∧ Q)\", \"(P ∧ Q) ⇒ R\"]\n",
    "del1_trans= np.transpose(del1)\n",
    "del1_bool = del1_trans.astype(bool)\n",
    "table1 = tabulate(del1_bool, beskrivelse, tablefmt=\"fancy_grid\")\n",
    "print(table1)\n",
    "\n",
    "del2 = np.array([[1,0,1,0,1,0,1,0],\n",
    "               [1,1,0,0,1,1,0,0],\n",
    "               [1,1,1,1,0,0,0,0],\n",
    "               [0,1,0,1,0,1,0,1],\n",
    "               [1,0,0,1,1,0,0,1],\n",
    "               [1,1,1,0,0,1,1,0]])\n",
    "beskrivelse = [\"P\", \"Q\", \"R\", \"¬P\", \"(Q ⇒ R)\", \"¬P ∨ (Q ⇒ R)\"]\n",
    "del2_trans= np.transpose(del2)\n",
    "del2_bool = del2_trans.astype(bool)\n",
    "table1 = tabulate(del2_bool, beskrivelse, tablefmt=\"fancy_grid\")\n",
    "print(table1)\n",
    "\n"
   ]
  },
  {
   "cell_type": "markdown",
   "metadata": {},
   "source": [
    "Opgave b)"
   ]
  }
 ],
 "metadata": {
  "kernelspec": {
   "display_name": "Python 3",
   "language": "python",
   "name": "python3"
  },
  "language_info": {
   "codemirror_mode": {
    "name": "ipython",
    "version": 3
   },
   "file_extension": ".py",
   "mimetype": "text/x-python",
   "name": "python",
   "nbconvert_exporter": "python",
   "pygments_lexer": "ipython3",
   "version": "3.12.4"
  }
 },
 "nbformat": 4,
 "nbformat_minor": 2
}
