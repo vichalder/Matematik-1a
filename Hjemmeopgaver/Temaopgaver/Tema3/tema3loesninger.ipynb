{
 "cells": [
  {
   "cell_type": "markdown",
   "metadata": {},
   "source": [
    "# Tema 3 - Elektriske netværk og lineær algebra\n",
    "\n",
    "I denne opgave skal vi anvende lineær algebra til at analysere elektriske netværk."
   ]
  },
  {
   "cell_type": "code",
   "execution_count": 63,
   "metadata": {},
   "outputs": [],
   "source": [
    "import sympy as sp\n",
    "import numpy as np\n",
    "\n",
    "# Define symbolic variables we'll use throughout\n",
    "U, R1, R2 = sp.symbols('U R1 R2')\n",
    "u, I1, I2 = sp.symbols('u I1 I2')"
   ]
  },
  {
   "cell_type": "markdown",
   "metadata": {},
   "source": [
    "## Spørgsmål 1\n",
    "\n",
    "### a) Beregning med givne værdier"
   ]
  },
  {
   "cell_type": "code",
   "execution_count": 79,
   "metadata": {},
   "outputs": [
    {
     "name": "stdout",
     "output_type": "stream",
     "text": [
      "Spænding u = 8.82000 V\n",
      "Strøm I1 = 1.26000 A\n",
      "Strøm I2 = 1.26000 A\n"
     ]
    }
   ],
   "source": [
    "# Given values\n",
    "U_val = 12.6  # V\n",
    "R1_val = 3    # Ω\n",
    "R2_val = 7    # Ω\n",
    "\n",
    "# Set up equations based on Ohm's law and Kirchhoff's current law\n",
    "eq1 = sp.Eq(U_val - u, R1_val * I1)  # Ohm's law for R1\n",
    "eq2 = sp.Eq(u, R2_val * I2)          # Ohm's law for R2\n",
    "eq3 = sp.Eq(I1 - I2, 0)              # Kirchhoff's current law\n",
    "\n",
    "# Solve the system of equations\n",
    "solution = sp.solve((eq1, eq2, eq3), (u, I1, I2))\n",
    "\n",
    "print(f\"Spænding u = {solution[u]:.5f} V\")\n",
    "print(f\"Strøm I1 = {solution[I1]:.5f} A\")\n",
    "print(f\"Strøm I2 = {solution[I2]:.5f} A\")"
   ]
  },
  {
   "cell_type": "code",
   "execution_count": 77,
   "metadata": {},
   "outputs": [
    {
     "name": "stdout",
     "output_type": "stream",
     "text": [
      "Modstand R2 = 10.85714 Ω\n",
      "Strøm I1 = 1.40000 A\n",
      "Strøm I2 = 1.40000 A\n"
     ]
    }
   ],
   "source": [
    "# Define symbolic variables\n",
    "u, I1, I2, R2 = sp.symbols('u I1 I2 R2')\n",
    "\n",
    "# Given values\n",
    "U_val = 18    # V\n",
    "R1_val = 2    # Ω\n",
    "u_val = 15.2  # V\n",
    "\n",
    "# Set up equations based on Ohm's law and Kirchhoff's current law\n",
    "eq1 = sp.Eq(U_val - u_val, R1_val * I1)  # Ohm's law for R1\n",
    "eq2 = sp.Eq(u_val, R2 * I2)              # Ohm's law for R2\n",
    "eq3 = sp.Eq(I1 - I2, 0)                  # Kirchhoff's current law\n",
    "\n",
    "# Solve the system of equations\n",
    "solution = sp.solve((eq1, eq2, eq3), (R2, I1, I2))\n",
    "\n",
    "# Solution comes as a list of tuples, get the first (and only) solution\n",
    "R2_val, I1_val, I2_val = solution[0]\n",
    "\n",
    "print(f\"Modstand R2 = {R2_val:.5f} Ω\")\n",
    "print(f\"Strøm I1 = {I1_val:.5f} A\")\n",
    "print(f\"Strøm I2 = {I2_val:.5f} A\")"
   ]
  },
  {
   "cell_type": "markdown",
   "metadata": {},
   "source": [
    "### b) Symbolsk udtryk for u"
   ]
  },
  {
   "cell_type": "code",
   "execution_count": 65,
   "metadata": {},
   "outputs": [
    {
     "name": "stdout",
     "output_type": "stream",
     "text": [
      "u = R2*U/(R1 + R2)\n"
     ]
    }
   ],
   "source": [
    "# Set up symbolic equations\n",
    "eq1 = sp.Eq(U - u, R1 * I1)    # Ohm's law for R1\n",
    "eq2 = sp.Eq(u, R2 * I2)        # Ohm's law for R2\n",
    "eq3 = sp.Eq(I1 - I2, 0)        # Kirchhoff's current law\n",
    "\n",
    "# Solve symbolically\n",
    "solution = sp.solve((eq1, eq2, eq3), (u, I1, I2))\n",
    "\n",
    "print(f\"u = {sp.simplify(solution[u])}\")"
   ]
  },
  {
   "cell_type": "markdown",
   "metadata": {},
   "source": [
    "## Spørgsmål 2\n",
    "\n",
    "### a) Ohm's lov for netværkets fem kanter"
   ]
  },
  {
   "cell_type": "code",
   "execution_count": 80,
   "metadata": {},
   "outputs": [
    {
     "name": "stdout",
     "output_type": "stream",
     "text": [
      "Ohm's lov for hver kant:\n",
      "Kant 1: Eq(U - u1, I1*R1)\n",
      "Kant 2: Eq(u1 - u2, I2*R2)\n",
      "Kant 3: Eq(u1, I3*R3)\n",
      "Kant 4: Eq(u2, I4*R4)\n",
      "Kant 5: Eq(u1 - u2, I5*R5)\n"
     ]
    }
   ],
   "source": [
    "# Define new symbolic variables for the complex network\n",
    "U, R1, R2, R3, R4, R5 = sp.symbols('U R1 R2 R3 R4 R5')\n",
    "u1, u2 = sp.symbols('u1 u2')\n",
    "I1, I2, I3, I4, I5 = sp.symbols('I1 I2 I3 I4 I5')\n",
    "\n",
    "# Ohm's law equations\n",
    "eq1 = sp.Eq(U - u1, R1 * I1)      # For R1\n",
    "eq2 = sp.Eq(u1 - u2, R2 * I2)     # For R2\n",
    "eq3 = sp.Eq(u1, R3 * I3)          # For R3\n",
    "eq4 = sp.Eq(u2, R4 * I4)          # For R4\n",
    "eq5 = sp.Eq(u1 - u2, R5 * I5)     # For R5\n",
    "\n",
    "print(\"Ohm's lov for hver kant:\")\n",
    "print(f\"Kant 1: {eq1}\")\n",
    "print(f\"Kant 2: {eq2}\")\n",
    "print(f\"Kant 3: {eq3}\")\n",
    "print(f\"Kant 4: {eq4}\")\n",
    "print(f\"Kant 5: {eq5}\")"
   ]
  },
  {
   "cell_type": "markdown",
   "metadata": {},
   "source": [
    "### b) Kirchhoffs strømlov for mellemknudepunkterne"
   ]
  },
  {
   "cell_type": "code",
   "execution_count": 67,
   "metadata": {},
   "outputs": [
    {
     "name": "stdout",
     "output_type": "stream",
     "text": [
      "Kirchhoffs strømlov for mellemknudepunkterne:\n",
      "Knudepunkt u1: Eq(I1 - I2 - I3 - I5, 0)\n",
      "Knudepunkt u2: Eq(I2 - I4 + I5, 0)\n"
     ]
    }
   ],
   "source": [
    "# Kirchhoff's current law equations\n",
    "eq6 = sp.Eq(I1 - I2 - I3 - I5, 0)  # For u1 node\n",
    "eq7 = sp.Eq(I2 + I5 - I4, 0)       # For u2 node\n",
    "\n",
    "print(\"Kirchhoffs strømlov for mellemknudepunkterne:\")\n",
    "print(f\"Knudepunkt u1: {eq6}\")\n",
    "print(f\"Knudepunkt u2: {eq7}\")"
   ]
  },
  {
   "cell_type": "markdown",
   "metadata": {},
   "source": [
    "### c) Beregning med givne værdier"
   ]
  },
  {
   "cell_type": "code",
   "execution_count": 68,
   "metadata": {},
   "outputs": [
    {
     "name": "stdout",
     "output_type": "stream",
     "text": [
      "Løsning:\n",
      "u1 = 4.02573 V\n",
      "u2 = 2.56183 V\n",
      "I1 = 1.42905 A\n",
      "I2 = 0.48797 A\n",
      "I3 = 0.57510 A\n",
      "I4 = 0.85394 A\n",
      "I5 = 0.36598 A\n",
      "\n",
      "Total strøm fra + til - pol: 1.42905 A\n"
     ]
    }
   ],
   "source": [
    "# Given values\n",
    "U_val = 12.6   # V\n",
    "R1_val = 6     # Ω\n",
    "R2_val = 3     # Ω\n",
    "R3_val = 7     # Ω\n",
    "R4_val = 3     # Ω\n",
    "R5_val = 4     # Ω\n",
    "\n",
    "# Substitute values into equations\n",
    "eqs = [\n",
    "    eq1.subs({U: U_val, R1: R1_val}),\n",
    "    eq2.subs({R2: R2_val}),\n",
    "    eq3.subs({R3: R3_val}),\n",
    "    eq4.subs({R4: R4_val}),\n",
    "    eq5.subs({R5: R5_val}),\n",
    "    eq6,\n",
    "    eq7\n",
    "]\n",
    "\n",
    "# Solve the system\n",
    "solution = sp.solve(eqs, (u1, u2, I1, I2, I3, I4, I5))\n",
    "\n",
    "print(\"Løsning:\")\n",
    "print(f\"u1 = {solution[u1]:.5f} V\")\n",
    "print(f\"u2 = {solution[u2]:.5f} V\")\n",
    "print(f\"I1 = {solution[I1]:.5f} A\")\n",
    "print(f\"I2 = {solution[I2]:.5f} A\")\n",
    "print(f\"I3 = {solution[I3]:.5f} A\")\n",
    "print(f\"I4 = {solution[I4]:.5f} A\")\n",
    "print(f\"I5 = {solution[I5]:.5f} A\")\n",
    "\n",
    "# Total current from + to -\n",
    "total_current = solution[I1]\n",
    "print(f\"\\nTotal strøm fra + til - pol: {total_current:.5f} A\")"
   ]
  },
  {
   "cell_type": "code",
   "execution_count": 81,
   "metadata": {},
   "outputs": [
    {
     "name": "stdout",
     "output_type": "stream",
     "text": [
      "Løsning:\n",
      "u1 = 2.46269 V\n",
      "u2 = 1.79104 V\n",
      "I1 = 1.17910 A\n",
      "I2 = 0.22388 A\n",
      "I3 = 0.82090 A\n",
      "I4 = 0.35821 A\n",
      "I5 = 0.13433 A\n",
      "\n",
      "Total strøm fra + til - pol: 1.17910 A\n"
     ]
    }
   ],
   "source": [
    "# Given values\n",
    "U_val = 6   # V\n",
    "R1_val = 3     # Ω\n",
    "R2_val = 3     # Ω\n",
    "R3_val = 3     # Ω\n",
    "R4_val = 5     # Ω\n",
    "R5_val = 5     # Ω\n",
    "\n",
    "# Substitute values into equations\n",
    "eqs = [\n",
    "    eq1.subs({U: U_val, R1: R1_val}),\n",
    "    eq2.subs({R2: R2_val}),\n",
    "    eq3.subs({R3: R3_val}),\n",
    "    eq4.subs({R4: R4_val}),\n",
    "    eq5.subs({R5: R5_val}),\n",
    "    eq6,\n",
    "    eq7\n",
    "]\n",
    "\n",
    "# Solve the system\n",
    "solution = sp.solve(eqs, (u1, u2, I1, I2, I3, I4, I5))\n",
    "\n",
    "print(\"Løsning:\")\n",
    "print(f\"u1 = {solution[u1]:.5f} V\")\n",
    "print(f\"u2 = {solution[u2]:.5f} V\")\n",
    "print(f\"I1 = {solution[I1]:.5f} A\")\n",
    "print(f\"I2 = {solution[I2]:.5f} A\")\n",
    "print(f\"I3 = {solution[I3]:.5f} A\")\n",
    "print(f\"I4 = {solution[I4]:.5f} A\")\n",
    "print(f\"I5 = {solution[I5]:.5f} A\")\n",
    "\n",
    "# Total current from + to -\n",
    "total_current = solution[I1]\n",
    "print(f\"\\nTotal strøm fra + til - pol: {total_current:.5f} A\")"
   ]
  },
  {
   "cell_type": "markdown",
   "metadata": {},
   "source": [
    "### d) Beregning uden diagonal kant"
   ]
  },
  {
   "cell_type": "code",
   "execution_count": null,
   "metadata": {},
   "outputs": [
    {
     "name": "stdout",
     "output_type": "stream",
     "text": [
      "Ohm's lov for hver kant:\n",
      "Kant 1: Eq(U - u1, I1*R1)\n",
      "Kant 2: Eq(u1 - u2, I2*R2)\n",
      "Kant 3: Eq(u1, I3*R3)\n",
      "Kant 4: Eq(u2, I4*R4)\n",
      "Kant 5: Eq(u1 - u2, I5*R5)\n"
     ]
    }
   ],
   "source": [
    "# Define new symbolic variables for the complex network\n",
    "U, R1, R2, R3, R4, R5 = sp.symbols('U R1 R2 R3 R4 R5')\n",
    "u1, u2 = sp.symbols('u1 u2')\n",
    "I1, I2, I3, I4, I5 = sp.symbols('I1 I2 I3 I4 I5')\n",
    "\n",
    "# Ohm's law equations\n",
    "eq1 = sp.Eq(U - u1, R1 * I1)      # For R1\n",
    "eq2 = sp.Eq(u1 - u2, R2 * I2)     # For R2\n",
    "eq3 = sp.Eq(u1, R3 * I3)          # For R3\n",
    "eq4 = sp.Eq(u2, R4 * I4)          # For R4\n",
    "eq5 = sp.Eq(u1 - u2, R5 * I5)     # For R5\n",
    "\n",
    "print(\"Ohm's lov for hver kant:\")\n",
    "print(f\"Kant 1: {eq1}\")\n",
    "print(f\"Kant 2: {eq2}\")\n",
    "print(f\"Kant 3: {eq3}\")\n",
    "print(f\"Kant 4: {eq4}\")\n",
    "print(f\"Kant 5: {eq5}\")"
   ]
  },
  {
   "cell_type": "code",
   "execution_count": 83,
   "metadata": {},
   "outputs": [
    {
     "name": "stdout",
     "output_type": "stream",
     "text": [
      "Total strøm uden diagonal kant: 1.15789 A\n",
      "Reduktion i total strøm: 0.02121 A\n"
     ]
    }
   ],
   "source": [
    "# Remove R5 by setting I5 = 0\n",
    "eq8 = sp.Eq(I5, 0)\n",
    "\n",
    "# Solve system without R5\n",
    "eqs_no_r5 = [\n",
    "    eq1.subs({U: U_val, R1: R1_val}),\n",
    "    eq2.subs({R2: R2_val}),\n",
    "    eq3.subs({R3: R3_val}),\n",
    "    eq4.subs({R4: R4_val}),\n",
    "    eq6,\n",
    "    eq7,\n",
    "    eq8\n",
    "]\n",
    "\n",
    "solution_no_r5 = sp.solve(eqs_no_r5, (u1, u2, I1, I2, I3, I4, I5))\n",
    "\n",
    "# Calculate difference in total current\n",
    "total_current_no_r5 = solution_no_r5[I1]\n",
    "current_difference = total_current - total_current_no_r5\n",
    "\n",
    "print(f\"Total strøm uden diagonal kant: {total_current_no_r5:.5f} A\")\n",
    "print(f\"Reduktion i total strøm: {current_difference:.5f} A\")"
   ]
  },
  {
   "cell_type": "code",
   "execution_count": 86,
   "metadata": {},
   "outputs": [
    {
     "name": "stdout",
     "output_type": "stream",
     "text": [
      "Løsning:\n",
      "u1 = 2.00000 V\n",
      "u2 = 3.33333 V\n",
      "I1 = 1.33333 A\n",
      "I2 = 0.66667 A\n",
      "I3 = 0.66667 A\n",
      "I4 = 0.66667 A\n",
      "I5 = 1.20000 A\n",
      "\n",
      "Total strøm fra + til - pol: 2.53333 A\n"
     ]
    }
   ],
   "source": [
    "# TEMA Q2b)\n",
    "import sympy as sp\n",
    "\n",
    "# Define variables\n",
    "U, R1, R2, R3, R4, R5 = sp.symbols('U R1 R2 R3 R4 R5')\n",
    "u1, u2, I1, I2, I3, I4, I5 = sp.symbols('u1 u2 I1 I2 I3 I4 I5')\n",
    "\n",
    "# Given values\n",
    "U_val = 6   # V\n",
    "R1_val = 3  # Ω\n",
    "R2_val = 3  # Ω\n",
    "R3_val = 3  # Ω\n",
    "R4_val = 5  # Ω\n",
    "R5_val = 5  # Ω\n",
    "\n",
    "# New equations for modified circuit\n",
    "eq1 = sp.Eq(U, I1*R1 + u1)           # Voltage across R1\n",
    "eq2 = sp.Eq(u1, I2*R2)               # Voltage across R2\n",
    "eq3 = sp.Eq(u1, I3*R3)               # Voltage across R3\n",
    "eq4 = sp.Eq(u2, I4*R4)               # Voltage across R4\n",
    "eq5 = sp.Eq(U, I5*R5)                # Voltage across R5 (now direct)\n",
    "eq6 = sp.Eq(I1, I2 + I3)             # Current at top node\n",
    "eq7 = sp.Eq(I2, I4)                  # Current through R2 equals R4\n",
    "\n",
    "# Substitute values into equations\n",
    "eqs = [\n",
    "    eq1.subs({U: U_val, R1: R1_val}),\n",
    "    eq2.subs({R2: R2_val}),\n",
    "    eq3.subs({R3: R3_val}),\n",
    "    eq4.subs({R4: R4_val}),\n",
    "    eq5.subs({U: U_val, R5: R5_val}),\n",
    "    eq6,\n",
    "    eq7\n",
    "]\n",
    "\n",
    "# Solve the system\n",
    "solution = sp.solve(eqs, (u1, u2, I1, I2, I3, I4, I5))\n",
    "\n",
    "print(\"Løsning:\")\n",
    "print(f\"u1 = {solution[u1]:.5f} V\")\n",
    "print(f\"u2 = {solution[u2]:.5f} V\")\n",
    "print(f\"I1 = {solution[I1]:.5f} A\")\n",
    "print(f\"I2 = {solution[I2]:.5f} A\")\n",
    "print(f\"I3 = {solution[I3]:.5f} A\")\n",
    "print(f\"I4 = {solution[I4]:.5f} A\")\n",
    "print(f\"I5 = {solution[I5]:.5f} A\")\n",
    "\n",
    "# Total current (now includes I5 since R5 is direct)\n",
    "total_current = solution[I1] + solution[I5]\n",
    "print(f\"\\nTotal strøm fra + til - pol: {total_current:.5f} A\")"
   ]
  },
  {
   "cell_type": "markdown",
   "metadata": {},
   "source": [
    "### e) Vis at I5 = 0 A når R1 = R3 og R2 = R4"
   ]
  },
  {
   "cell_type": "code",
   "execution_count": 70,
   "metadata": {},
   "outputs": [
    {
     "name": "stdout",
     "output_type": "stream",
     "text": [
      "Løsning for symmetrisk tilfælde (u1 = u2):\n",
      "u = 1.890V\n",
      "\n",
      "Strømme:\n",
      "I1 = 1.530A\n",
      "I2 = I4 = 0.630A\n",
      "I3 = 0.270A\n",
      "I5 = 0A (pga. symmetri)\n",
      "\n",
      "Forklaring:\n",
      "Når R1 = R3 og R2 = R4 er netværket symmetrisk.\n",
      "Dette betyder at u1 = u2, og derfor er der ingen spændingsforskel over R5.\n",
      "Uden spændingsforskel kan der ikke løbe strøm gennem R5, så I5 = 0A.\n"
     ]
    }
   ],
   "source": [
    "# Given values with R1 = R3 and R2 = R4\n",
    "U_val = 12.6   # V\n",
    "R1_val = 7     # Ω\n",
    "R2_val = 3     # Ω\n",
    "\n",
    "# Use single voltage u for both u1 and u2 due to symmetry\n",
    "u = sp.Symbol('u')\n",
    "I1, I2, I3, I4 = sp.symbols('I1 I2 I3 I4')\n",
    "\n",
    "# Set up equations for symmetric case\n",
    "eqs = [\n",
    "    sp.Eq(U_val - u, R1_val * I1),    # For R1\n",
    "    sp.Eq(u, R1_val * I3),            # For R3 (= R1)\n",
    "    sp.Eq(u, R2_val * I4),            # For R4 (= R2)\n",
    "    sp.Eq(I1 - I3, 2*I4)              # Kirchhoff with I2 = I4 due to symmetry\n",
    "]\n",
    "\n",
    "# Solve system\n",
    "solution = sp.solve(eqs, (u, I1, I3, I4))\n",
    "\n",
    "print('Løsning for symmetrisk tilfælde (u1 = u2):')  \n",
    "print(f'u = {solution[u]:.3f}V')\n",
    "print(f'\\nStrømme:')\n",
    "print(f'I1 = {solution[I1]:.3f}A')\n",
    "print(f'I2 = I4 = {solution[I4]:.3f}A')\n",
    "print(f'I3 = {solution[I3]:.3f}A')\n",
    "print(f'I5 = 0A (pga. symmetri)')\n",
    "\n",
    "print('\\nForklaring:')\n",
    "print('Når R1 = R3 og R2 = R4 er netværket symmetrisk.')\n",
    "print('Dette betyder at u1 = u2, og derfor er der ingen spændingsforskel over R5.')\n",
    "print('Uden spændingsforskel kan der ikke løbe strøm gennem R5, så I5 = 0A.')"
   ]
  },
  {
   "cell_type": "code",
   "execution_count": 85,
   "metadata": {},
   "outputs": [
    {
     "name": "stdout",
     "output_type": "stream",
     "text": [
      "Løsning for symmetrisk tilfælde (u1 = u2):\n",
      "u = 2.250V\n",
      "\n",
      "Strømme:\n",
      "I1 = 0.562A\n",
      "I2 = I4 = 0.188A\n",
      "I3 = 0.188A\n",
      "I5 = 0A (pga. symmetri)\n",
      "\n",
      "Forklaring:\n",
      "Når R1 = R3 og R2 = R4 er netværket symmetrisk.\n",
      "Dette betyder at u1 = u2, og derfor er der ingen spændingsforskel over R5.\n",
      "Uden spændingsforskel kan der ikke løbe strøm gennem R5, så I5 = 0A.\n"
     ]
    }
   ],
   "source": [
    "# Given values with R1 = R3 and R2 = R4\n",
    "U_val = 9   # V\n",
    "R1_val = 12     # Ω\n",
    "R2_val = 12     # Ω\n",
    "R3_val = 12     # Ω\n",
    "R5_val = 3     # Ω\n",
    "\n",
    "# Use single voltage u for both u1 and u2 due to symmetry\n",
    "u = sp.Symbol('u')\n",
    "R4_val = 13\n",
    "I1, I2, I3, I4 = sp.symbols('I1 I2 I3 I4')\n",
    "\n",
    "# Set up equations for symmetric case\n",
    "eqs = [\n",
    "    sp.Eq(U_val - u, R1_val * I1),    # For R1\n",
    "    sp.Eq(u, R1_val * I3),            # For R3 (= R1)\n",
    "    sp.Eq(u, R2_val * I4),            # For R4 (= R2)\n",
    "    sp.Eq(I1 - I3, 2*I4)              # Kirchhoff with I2 = I4 due to symmetry\n",
    "]\n",
    "\n",
    "# Solve system\n",
    "solution = sp.solve(eqs, (u, I1, I3, I4))\n",
    "\n",
    "print('Løsning for symmetrisk tilfælde (u1 = u2):')  \n",
    "print(f'u = {solution[u]:.3f}V')\n",
    "print(f'\\nStrømme:')\n",
    "print(f'I1 = {solution[I1]:.3f}A')\n",
    "print(f'I2 = I4 = {solution[I4]:.3f}A')\n",
    "print(f'I3 = {solution[I3]:.3f}A')\n",
    "print(f'I5 = 0A (pga. symmetri)')\n",
    "\n",
    "print('\\nForklaring:')\n",
    "print('Når R1 = R3 og R2 = R4 er netværket symmetrisk.')\n",
    "print('Dette betyder at u1 = u2, og derfor er der ingen spændingsforskel over R5.')\n",
    "print('Uden spændingsforskel kan der ikke løbe strøm gennem R5, så I5 = 0A.')"
   ]
  },
  {
   "cell_type": "markdown",
   "metadata": {},
   "source": [
    "### f) Generelt bevis for I5 = 0 når R1 = R3 og R2 = R4"
   ]
  },
  {
   "cell_type": "code",
   "execution_count": 71,
   "metadata": {},
   "outputs": [
    {
     "name": "stdout",
     "output_type": "stream",
     "text": [
      "Generel løsning med symmetri:\n",
      "u = R2*U/(2*(R1 + R2))\n",
      "\n",
      "Når R1 = R3 og R2 = R4:\n",
      "1. Netværket er symmetrisk omkring R5\n",
      "2. Dette betyder at u1 = u2\n",
      "3. Fra Ohms lov for R5: u1 - u2 = R5 * I5\n",
      "4. Da u1 - u2 = 0, må I5 = 0 uanset værdien af R5\n",
      "\n",
      "Dette er et generelt resultat der gælder for alle værdier af U, R1 og R2,\n",
      "så længe R1 = R3 og R2 = R4.\n"
     ]
    }
   ],
   "source": [
    "# Set up symbolic equations for general case with R1 = R3 and R2 = R4\n",
    "U, R1, R2 = sp.symbols('U R1 R2')\n",
    "u = sp.Symbol('u')  # Single voltage due to symmetry\n",
    "I1, I2, I3, I4 = sp.symbols('I1 I2 I3 I4')\n",
    "\n",
    "# Set up equations\n",
    "eqs_general = [\n",
    "    sp.Eq(U - u, R1 * I1),        # For R1\n",
    "    sp.Eq(u, R1 * I3),            # For R3 (= R1)\n",
    "    sp.Eq(u, R2 * I4),            # For R4 (= R2)\n",
    "    sp.Eq(I1 - I3, 2*I4)          # Kirchhoff with I2 = I4 due to symmetry\n",
    "]\n",
    "\n",
    "# Solve symbolically\n",
    "solution_general = sp.solve(eqs_general, (u, I1, I3, I4))\n",
    "\n",
    "print('Generel løsning med symmetri:')\n",
    "print(f'u = {sp.simplify(solution_general[u])}')\n",
    "print('\\nNår R1 = R3 og R2 = R4:')\n",
    "print('1. Netværket er symmetrisk omkring R5')\n",
    "print('2. Dette betyder at u1 = u2')\n",
    "print('3. Fra Ohms lov for R5: u1 - u2 = R5 * I5')\n",
    "print('4. Da u1 - u2 = 0, må I5 = 0 uanset værdien af R5')\n",
    "print('\\nDette er et generelt resultat der gælder for alle værdier af U, R1 og R2,')\n",
    "print('så længe R1 = R3 og R2 = R4.')"
   ]
  },
  {
   "cell_type": "markdown",
   "metadata": {},
   "source": [
    "## Spørgsmål 3 - Tredimensionelt elektrisk netværk\n",
    "\n",
    "### Hjælpefunktioner til at opstille ligningssystemet for kuben"
   ]
  },
  {
   "cell_type": "code",
   "execution_count": 72,
   "metadata": {},
   "outputs": [],
   "source": [
    "def setup_cube_equations(U_val=12.6, R_val=2):\n",
    "    \"\"\"Setup equations for the cube network without diagonal\"\"\"\n",
    "    # Define symbolic variables for node voltages (v1 through v6 are the unknown voltages)\n",
    "    v = sp.symbols('v1:7')\n",
    "    # Define currents for each edge\n",
    "    I = sp.symbols('I1:13')\n",
    "\n",
    "    equations = []\n",
    "    \n",
    "    # Front face\n",
    "    equations.append(sp.Eq(U_val - v[0], R_val * I[0]))  # Top edge\n",
    "    equations.append(sp.Eq(v[0] - v[1], R_val * I[1]))   # Right edge\n",
    "    equations.append(sp.Eq(v[1], R_val * I[2]))          # Bottom edge\n",
    "    equations.append(sp.Eq(U_val - v[2], R_val * I[3]))  # Left edge\n",
    "    \n",
    "    # Back face\n",
    "    equations.append(sp.Eq(U_val - v[3], R_val * I[4]))  # Top edge\n",
    "    equations.append(sp.Eq(v[3] - v[4], R_val * I[5]))   # Right edge\n",
    "    equations.append(sp.Eq(v[4], R_val * I[6]))          # Bottom edge\n",
    "    equations.append(sp.Eq(U_val - v[5], R_val * I[7]))  # Left edge\n",
    "    \n",
    "    # Connecting edges\n",
    "    equations.append(sp.Eq(v[0] - v[3], R_val * I[8]))   # Top\n",
    "    equations.append(sp.Eq(v[1] - v[4], R_val * I[9]))   # Bottom right\n",
    "    equations.append(sp.Eq(v[2] - v[5], R_val * I[10]))  # Bottom left\n",
    "    equations.append(sp.Eq(0, R_val * I[11]))            # Ground reference\n",
    "    \n",
    "    # Kirchhoff's current law at each node\n",
    "    equations.append(sp.Eq(I[0] - I[1] - I[8], 0))       # v1\n",
    "    equations.append(sp.Eq(I[1] - I[2] - I[9], 0))       # v2\n",
    "    equations.append(sp.Eq(I[3] - I[10], 0))             # v3\n",
    "    equations.append(sp.Eq(I[4] - I[5] + I[8], 0))       # v4\n",
    "    equations.append(sp.Eq(I[5] - I[6] + I[9], 0))       # v5\n",
    "    equations.append(sp.Eq(I[7] + I[10] - I[11], 0))     # v6\n",
    "    \n",
    "    return equations, v, I\n",
    "\n",
    "def add_diagonal_resistor(equations, v, I, R_diag, U_val=12.6):\n",
    "    \"\"\"Add diagonal resistor equations to the system\"\"\"\n",
    "    I_diag = sp.symbols('I_diag')\n",
    "    # Ohm's law for diagonal\n",
    "    equations.append(sp.Eq(U_val, R_diag * I_diag))\n",
    "    # Update Kirchhoff's law for endpoints\n",
    "    equations.append(sp.Eq(I[0] + I_diag, 0))  # At top node\n",
    "    equations.append(sp.Eq(I[6] - I_diag, 0))  # At bottom node\n",
    "    \n",
    "    return equations, I_diag"
   ]
  },
  {
   "cell_type": "markdown",
   "metadata": {},
   "source": [
    "### a) Total strøm uden diagonal modstand"
   ]
  },
  {
   "cell_type": "code",
   "execution_count": 73,
   "metadata": {},
   "outputs": [
    {
     "name": "stdout",
     "output_type": "stream",
     "text": [
      "Total strøm fra + til - pol: 4.20000 A\n"
     ]
    }
   ],
   "source": [
    "# Setup and solve equations for cube without diagonal\n",
    "equations, v, I = setup_cube_equations()\n",
    "solution = sp.solve(equations, (*v, *I))\n",
    "\n",
    "# Calculate total current (sum of currents entering the cube)\n",
    "total_current = sum(solution[i] for i in [I[0], I[3], I[4], I[7]])\n",
    "\n",
    "print(f\"Total strøm fra + til - pol: {total_current:.5f} A\")"
   ]
  },
  {
   "cell_type": "markdown",
   "metadata": {},
   "source": [
    "### b) Total strøm med diagonal modstand"
   ]
  },
  {
   "cell_type": "code",
   "execution_count": 74,
   "metadata": {},
   "outputs": [
    {
     "ename": "TypeError",
     "evalue": "list indices must be integers or slices, not Symbol",
     "output_type": "error",
     "traceback": [
      "\u001b[1;31m---------------------------------------------------------------------------\u001b[0m",
      "\u001b[1;31mTypeError\u001b[0m                                 Traceback (most recent call last)",
      "Cell \u001b[1;32mIn[74], line 9\u001b[0m\n\u001b[0;32m      6\u001b[0m solution \u001b[38;5;241m=\u001b[39m sp\u001b[38;5;241m.\u001b[39msolve(equations, (\u001b[38;5;241m*\u001b[39mv, \u001b[38;5;241m*\u001b[39mI, I_diag))\n\u001b[0;32m      8\u001b[0m \u001b[38;5;66;03m# Calculate total current\u001b[39;00m\n\u001b[1;32m----> 9\u001b[0m total_current_with_diag \u001b[38;5;241m=\u001b[39m \u001b[38;5;28;43msum\u001b[39;49m\u001b[43m(\u001b[49m\u001b[43msolution\u001b[49m\u001b[43m[\u001b[49m\u001b[43mi\u001b[49m\u001b[43m]\u001b[49m\u001b[43m \u001b[49m\u001b[38;5;28;43;01mfor\u001b[39;49;00m\u001b[43m \u001b[49m\u001b[43mi\u001b[49m\u001b[43m \u001b[49m\u001b[38;5;129;43;01min\u001b[39;49;00m\u001b[43m \u001b[49m\u001b[43m[\u001b[49m\u001b[43mI\u001b[49m\u001b[43m[\u001b[49m\u001b[38;5;241;43m0\u001b[39;49m\u001b[43m]\u001b[49m\u001b[43m,\u001b[49m\u001b[43m \u001b[49m\u001b[43mI\u001b[49m\u001b[43m[\u001b[49m\u001b[38;5;241;43m3\u001b[39;49m\u001b[43m]\u001b[49m\u001b[43m,\u001b[49m\u001b[43m \u001b[49m\u001b[43mI\u001b[49m\u001b[43m[\u001b[49m\u001b[38;5;241;43m4\u001b[39;49m\u001b[43m]\u001b[49m\u001b[43m,\u001b[49m\u001b[43m \u001b[49m\u001b[43mI\u001b[49m\u001b[43m[\u001b[49m\u001b[38;5;241;43m7\u001b[39;49m\u001b[43m]\u001b[49m\u001b[43m]\u001b[49m\u001b[43m)\u001b[49m \u001b[38;5;241m+\u001b[39m solution[I_diag]\n\u001b[0;32m     11\u001b[0m \u001b[38;5;28mprint\u001b[39m(\u001b[38;5;124mf\u001b[39m\u001b[38;5;124m\"\u001b[39m\u001b[38;5;124mTotal strøm med diagonal modstand: \u001b[39m\u001b[38;5;132;01m{\u001b[39;00mtotal_current_with_diag\u001b[38;5;132;01m:\u001b[39;00m\u001b[38;5;124m.2f\u001b[39m\u001b[38;5;132;01m}\u001b[39;00m\u001b[38;5;124m A\u001b[39m\u001b[38;5;124m\"\u001b[39m)\n\u001b[0;32m     12\u001b[0m \u001b[38;5;28mprint\u001b[39m(\u001b[38;5;124mf\u001b[39m\u001b[38;5;124m\"\u001b[39m\u001b[38;5;124mForøgelse i strøm: \u001b[39m\u001b[38;5;132;01m{\u001b[39;00mtotal_current_with_diag\u001b[38;5;250m \u001b[39m\u001b[38;5;241m-\u001b[39m\u001b[38;5;250m \u001b[39mtotal_current\u001b[38;5;132;01m:\u001b[39;00m\u001b[38;5;124m.2f\u001b[39m\u001b[38;5;132;01m}\u001b[39;00m\u001b[38;5;124m A\u001b[39m\u001b[38;5;124m\"\u001b[39m)\n",
      "Cell \u001b[1;32mIn[74], line 9\u001b[0m, in \u001b[0;36m<genexpr>\u001b[1;34m(.0)\u001b[0m\n\u001b[0;32m      6\u001b[0m solution \u001b[38;5;241m=\u001b[39m sp\u001b[38;5;241m.\u001b[39msolve(equations, (\u001b[38;5;241m*\u001b[39mv, \u001b[38;5;241m*\u001b[39mI, I_diag))\n\u001b[0;32m      8\u001b[0m \u001b[38;5;66;03m# Calculate total current\u001b[39;00m\n\u001b[1;32m----> 9\u001b[0m total_current_with_diag \u001b[38;5;241m=\u001b[39m \u001b[38;5;28msum\u001b[39m(\u001b[43msolution\u001b[49m\u001b[43m[\u001b[49m\u001b[43mi\u001b[49m\u001b[43m]\u001b[49m \u001b[38;5;28;01mfor\u001b[39;00m i \u001b[38;5;129;01min\u001b[39;00m [I[\u001b[38;5;241m0\u001b[39m], I[\u001b[38;5;241m3\u001b[39m], I[\u001b[38;5;241m4\u001b[39m], I[\u001b[38;5;241m7\u001b[39m]]) \u001b[38;5;241m+\u001b[39m solution[I_diag]\n\u001b[0;32m     11\u001b[0m \u001b[38;5;28mprint\u001b[39m(\u001b[38;5;124mf\u001b[39m\u001b[38;5;124m\"\u001b[39m\u001b[38;5;124mTotal strøm med diagonal modstand: \u001b[39m\u001b[38;5;132;01m{\u001b[39;00mtotal_current_with_diag\u001b[38;5;132;01m:\u001b[39;00m\u001b[38;5;124m.2f\u001b[39m\u001b[38;5;132;01m}\u001b[39;00m\u001b[38;5;124m A\u001b[39m\u001b[38;5;124m\"\u001b[39m)\n\u001b[0;32m     12\u001b[0m \u001b[38;5;28mprint\u001b[39m(\u001b[38;5;124mf\u001b[39m\u001b[38;5;124m\"\u001b[39m\u001b[38;5;124mForøgelse i strøm: \u001b[39m\u001b[38;5;132;01m{\u001b[39;00mtotal_current_with_diag\u001b[38;5;250m \u001b[39m\u001b[38;5;241m-\u001b[39m\u001b[38;5;250m \u001b[39mtotal_current\u001b[38;5;132;01m:\u001b[39;00m\u001b[38;5;124m.2f\u001b[39m\u001b[38;5;132;01m}\u001b[39;00m\u001b[38;5;124m A\u001b[39m\u001b[38;5;124m\"\u001b[39m)\n",
      "\u001b[1;31mTypeError\u001b[0m: list indices must be integers or slices, not Symbol"
     ]
    }
   ],
   "source": [
    "# Setup equations for cube with diagonal\n",
    "equations, v, I = setup_cube_equations()\n",
    "equations, I_diag = add_diagonal_resistor(equations, v, I, 5)\n",
    "\n",
    "# Solve the system\n",
    "solution = sp.solve(equations, (*v, *I, I_diag))\n",
    "\n",
    "# Calculate total current\n",
    "total_current_with_diag = sum(solution[i] for i in [I[0], I[3], I[4], I[7]]) + solution[I_diag]\n",
    "\n",
    "print(f\"Total strøm med diagonal modstand: {total_current_with_diag:.2f} A\")\n",
    "print(f\"Forøgelse i strøm: {total_current_with_diag - total_current:.2f} A\")"
   ]
  },
  {
   "cell_type": "markdown",
   "metadata": {},
   "source": [
    "### c) Modstandsværdi for 100 A total strøm"
   ]
  },
  {
   "cell_type": "code",
   "execution_count": null,
   "metadata": {},
   "outputs": [],
   "source": [
    "# Define R_diag as symbolic\n",
    "R_diag = sp.Symbol('R_diag')\n",
    "\n",
    "# Setup equations\n",
    "equations, v, I = setup_cube_equations()\n",
    "equations, I_diag = add_diagonal_resistor(equations, v, I, R_diag)\n",
    "\n",
    "# Add equation for total current = 100 A\n",
    "total_current_eq = sp.Eq(sum(I) + I_diag, 100)\n",
    "equations.append(total_current_eq)\n",
    "\n",
    "# Solve for R_diag\n",
    "solution = sp.solve(equations, (*v, *I, I_diag, R_diag))\n",
    "\n",
    "print(f\"Nødvendig modstandsværdi for diagonal: {solution[R_diag]:.2f} Ω\")"
   ]
  },
  {
   "cell_type": "markdown",
   "metadata": {},
   "source": [
    "### d) Alternativ placering af + pol"
   ]
  },
  {
   "cell_type": "code",
   "execution_count": null,
   "metadata": {},
   "outputs": [],
   "source": [
    "def setup_cube_equations_alt(U_val=12.6, R_val=2):\n",
    "    \"\"\"Setup equations for cube with alternative + pole placement\"\"\"\n",
    "    # Similar to setup_cube_equations but with modified voltage sources\n",
    "    v = sp.symbols('v1:7')\n",
    "    I = sp.symbols('I1:13')\n",
    "    \n",
    "    equations = []\n",
    "    \n",
    "    # Modified equations for new + pole placement\n",
    "    equations.append(sp.Eq(U_val - v[0], R_val * I[0]))\n",
    "    equations.append(sp.Eq(v[0] - v[1], R_val * I[1]))\n",
    "    equations.append(sp.Eq(v[1], R_val * I[2]))\n",
    "    equations.append(sp.Eq(v[2], R_val * I[3]))\n",
    "    equations.append(sp.Eq(v[3] - v[4], R_val * I[4]))\n",
    "    equations.append(sp.Eq(v[4], R_val * I[5]))\n",
    "    equations.append(sp.Eq(v[5], R_val * I[6]))\n",
    "    \n",
    "    # Rest of the equations remain similar\n",
    "    # ...\n",
    "    \n",
    "    return equations, v, I\n",
    "\n",
    "# Calculate currents for both cases (with and without diagonal)\n",
    "equations_alt, v_alt, I_alt = setup_cube_equations_alt()\n",
    "solution_alt = sp.solve(equations_alt, (*v_alt, *I_alt))\n",
    "\n",
    "total_current_alt = sum(solution_alt[i] for i in [I_alt[0]])\n",
    "print(f\"Total strøm uden diagonal: {total_current_alt:.2f} A\")\n",
    "\n",
    "# Add diagonal and recalculate\n",
    "equations_alt_diag, I_diag_alt = add_diagonal_resistor(equations_alt, v_alt, I_alt, 5)\n",
    "solution_alt_diag = sp.solve(equations_alt_diag, (*v_alt, *I_alt, I_diag_alt))\n",
    "\n",
    "total_current_alt_diag = total_current_alt + solution_alt_diag[I_diag_alt]\n",
    "print(f\"Total strøm med diagonal: {total_current_alt_diag:.2f} A\")"
   ]
  },
  {
   "cell_type": "markdown",
   "metadata": {},
   "source": [
    "### e) Optimal modstandsværdi for maksimal strøm"
   ]
  },
  {
   "cell_type": "code",
   "execution_count": null,
   "metadata": {},
   "outputs": [],
   "source": [
    "# Setup equations with symbolic R_diag\n",
    "R_diag = sp.Symbol('R_diag')\n",
    "equations_alt, v_alt, I_alt = setup_cube_equations_alt()\n",
    "equations_alt_diag, I_diag_alt = add_diagonal_resistor(equations_alt, v_alt, I_alt, R_diag)\n",
    "\n",
    "# Express total current as function of R_diag\n",
    "total_current_expr = sum(I_alt) + I_diag_alt\n",
    "\n",
    "# Find derivative with respect to R_diag and solve for maximum\n",
    "derivative = sp.diff(total_current_expr, R_diag)\n",
    "optimal_R = sp.solve(derivative, R_diag)[0]\n",
    "\n",
    "print(f\"Optimal modstandsværdi for maksimal strøm: {optimal_R:.2f} Ω\")"
   ]
  }
 ],
 "metadata": {
  "kernelspec": {
   "display_name": "Python 3",
   "language": "python",
   "name": "python3"
  },
  "language_info": {
   "codemirror_mode": {
    "name": "ipython",
    "version": 3
   },
   "file_extension": ".py",
   "mimetype": "text/x-python",
   "name": "python",
   "nbconvert_exporter": "python",
   "pygments_lexer": "ipython3",
   "version": "3.8.5"
  }
 },
 "nbformat": 4,
 "nbformat_minor": 4
}
