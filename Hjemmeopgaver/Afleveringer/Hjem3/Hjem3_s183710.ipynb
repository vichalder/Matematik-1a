{
 "cells": [
  {
   "cell_type": "markdown",
   "metadata": {},
   "source": [
    "# <center>Hjemmeopgave 3 - Matematik 1a\n",
    "#### <center>Victor Jonathan Hald\n",
    "#### <center>s183710\n",
    "#### <center>10-11-2024"
   ]
  },
  {
   "cell_type": "markdown",
   "metadata": {},
   "source": [
    "## Opgave a)"
   ]
  },
  {
   "cell_type": "markdown",
   "metadata": {},
   "source": [
    "Beregn rangen af følgende matrix:\n",
    "$$\n",
    "A = \\begin{bmatrix}\n",
    "2 & 2 & 0 \\\\\n",
    "-1 & 1 & 2 \\\\\n",
    "0 & 2 & 2 \\\\\n",
    "0 & 1 & 1\n",
    "\\end{bmatrix}\n",
    "$$"
   ]
  },
  {
   "cell_type": "markdown",
   "metadata": {},
   "source": [
    "Vi sætter på reduceret trappeform:\n",
    "\n",
    "Vi starter med at dividere række 1 og række 3 med 2, og derefter lægge række 1 til række 2:\n",
    "$$\n",
    "\\begin{bmatrix}\n",
    "1 & 1 & 0 \\\\\n",
    "0 & 2 & 2 \\\\\n",
    "0 & 1 & 1 \\\\\n",
    "0 & 1 & 1\n",
    "\\end{bmatrix}\n",
    "$$"
   ]
  },
  {
   "cell_type": "markdown",
   "metadata": {},
   "source": [
    "Nu dividerer vi række 2 med 2, og trækker række 2 fra række 3 og 4:\n",
    "$$\n",
    "\\begin{bmatrix}\n",
    "1 & 1 & 0 \\\\\n",
    "0 & 1 & 1 \\\\\n",
    "0 & 0 & 0 \\\\\n",
    "0 & 0 & 0\n",
    "\\end{bmatrix}\n",
    "$$"
   ]
  },
  {
   "cell_type": "markdown",
   "metadata": {},
   "source": [
    "Vi har nu 2 ledende 1-taller og to nulrækker. Derfor er $\\boxed{rang(A) = 2}$."
   ]
  },
  {
   "cell_type": "markdown",
   "metadata": {},
   "source": [
    "## Opgave b)"
   ]
  },
  {
   "cell_type": "markdown",
   "metadata": {},
   "source": [
    "Givet et homogent lineært ligningssystem over $\\mathbb{R}$ med fire ligninger med tre ubekendte. Det\n",
    "oplyses at nedenstående to vektorer\n",
    "$\n",
    "v_1 = \\begin{bmatrix}\n",
    "    1 \\\\ \n",
    "    -1 \\\\ \n",
    "    0\n",
    "    \\end{bmatrix}\n",
    "$\n",
    "og \n",
    "$\n",
    "v_2 = \\begin{bmatrix}\n",
    "    1 \\\\ \n",
    "    1 \\\\ \n",
    "    1\n",
    "    \\end{bmatrix}\n",
    "$\n",
    "er løsninger til systemet."
   ]
  },
  {
   "cell_type": "markdown",
   "metadata": {},
   "source": [
    "#### 1.\n",
    "Kan det afgøres om vektoren \n",
    "$\n",
    "v = \\begin{bmatrix}\n",
    "    1 \\\\ \n",
    "    -5 \\\\ \n",
    "    -2\n",
    "    \\end{bmatrix}\n",
    "$\n",
    "er en løsning til systemet?\n"
   ]
  },
  {
   "cell_type": "markdown",
   "metadata": {},
   "source": [
    "Vi bruger $v_1$ og $v_2$ til at tjekke:\n",
    "$$\n",
    "x_1 + x_2 = 1\n",
    "$$\n",
    "$$\n",
    "-x_1 + x_2 = -5\n",
    "$$\n",
    "$$\n",
    "x_2 = -2\n",
    "$$\n",
    "\n",
    "Vi ser at $x_2=-2$. Dette kan vi indsætte i ligning 1:\n",
    "$$\n",
    "x_1 + (-2) = 1 -> x_1 = 3\n",
    "$$\n",
    "Vi tjekker nu ligning 2:\n",
    "$$\n",
    "-x_1 + x_2 = -3 + (-2) = -5\n",
    "$$\n",
    "Vi tester:\n",
    "$$\n",
    "3 \\cdot v_1 -2 \\cdot v_2 = 3 \\cdot \\begin{bmatrix} 1 \\\\ -1 \\\\ 0\\end{bmatrix} - 2\\cdot \\begin{bmatrix} 1 \\\\ 1 \\\\ 1 \\end{bmatrix} = \\begin{bmatrix} 3 \\\\ -3 \\\\ 0\\end{bmatrix} - \\begin{bmatrix} 2 \\\\ 2 \\\\ 2 \\end{bmatrix} = \\boxed{\\begin{bmatrix}1 \\\\ -5 \\\\ -2\\end{bmatrix}}\n",
    "$$\n",
    "Vi har altså en løsning, da vi får den samme vektor igen."
   ]
  },
  {
   "cell_type": "markdown",
   "metadata": {},
   "source": [
    "#### 2.\n",
    "Kan det afgøres om vektoren \n",
    "$\n",
    "v = \\begin{bmatrix}\n",
    "    1 \\\\ \n",
    "    -5 \\\\ \n",
    "    1\n",
    "    \\end{bmatrix}\n",
    "$\n",
    "er en løsning til systemet?"
   ]
  },
  {
   "cell_type": "markdown",
   "metadata": {},
   "source": [
    "Vi bruger $v_1$ og $v_2$ til at tjekke:\n",
    "$$\n",
    "x_1 + x_2 = 1\n",
    "$$\n",
    "$$\n",
    "-x_1 + x_2 = -5\n",
    "$$\n",
    "$$\n",
    "x_2 = 1\n",
    "$$\n",
    "\n",
    "Vi ser at $x_2=1$. Dette kan vi indsætte i ligning 1:\n",
    "$$\n",
    "x_1 + 1 = 1 -> x_1 = 0\n",
    "$$\n",
    "Vi tjekker nu ligning 2:\n",
    "$$\n",
    "-x_1 + x_2 = 0 + 1 = 1\n",
    "$$\n",
    "Vi tester:\n",
    "$$\n",
    "0 \\cdot v_1 + 1 \\cdot v_2 = \\boxed{\\begin{bmatrix} 1 \\\\ 1 \\\\ 1 \\end{bmatrix}}\n",
    "$$\n",
    "Vi har altså ikke en løsning, da vi ikke får den samme vektor igen."
   ]
  },
  {
   "cell_type": "markdown",
   "metadata": {},
   "source": [
    "## c)"
   ]
  },
  {
   "cell_type": "markdown",
   "metadata": {},
   "source": [
    "Bestem om følgende 3 vektorer i $\\mathbb{R^4}$ er lineært uafhængige:\n",
    "$$\n",
    "\\begin{bmatrix}\n",
    "3 \\\\\n",
    "2 \\\\\n",
    "1 \\\\\n",
    "1\n",
    "\\end{bmatrix},\n",
    "\\begin{bmatrix}\n",
    "-1 \\\\\n",
    "2 \\\\\n",
    "5 \\\\\n",
    "-3\n",
    "\\end{bmatrix},\n",
    "\\begin{bmatrix}\n",
    "1 \\\\\n",
    "2 \\\\\n",
    "3 \\\\\n",
    "-1\n",
    "\\end{bmatrix}\n",
    "$$"
   ]
  },
  {
   "cell_type": "markdown",
   "metadata": {},
   "source": [
    "Vi sætter totalmatricen på trappeform:\n",
    "$$\n",
    "A = \\begin{bmatrix}\n",
    "3 & -1 & 1 \\\\\n",
    "2 & 2 & 2 \\\\\n",
    "1 & 5 & 3 \\\\\n",
    "1 & -3 & -1\n",
    "\\end{bmatrix}\n",
    "$$\n",
    "$$R1-3 \\cdot R4, R2-2 \\cdot R4, R3-R4$$\n",
    "$$\n",
    "A = \\begin{bmatrix}\n",
    "0 & 8 & 4 \\\\\n",
    "0 & 8 & 4 \\\\\n",
    "0 & 8 & 4 \\\\\n",
    "1 & -3 & -1\n",
    "\\end{bmatrix}\n",
    "$$\n",
    "$$R1-R2, R3-R2, R2/8$$\n",
    "$$\n",
    "A = \\begin{bmatrix}\n",
    "0 & 0 & 0 \\\\\n",
    "0 & 1 & \\frac{1}{2} \\\\\n",
    "0 & 0 & 0 \\\\\n",
    "1 & -3 & -1\n",
    "\\end{bmatrix}\n",
    "$$\n",
    "$$R4+3R2$$\n",
    "$$\n",
    "A = \\begin{bmatrix}\n",
    "0 & 0 & 0 \\\\\n",
    "0 & 1 & \\frac{1}{2} \\\\\n",
    "0 & 0 & 0 \\\\\n",
    "1 & 0 & \\frac{1}{2}\n",
    "\\end{bmatrix}\n",
    "$$\n",
    "$$R1 <-> R4$$\n",
    "$$\n",
    "A = \\begin{bmatrix}\n",
    "1 & 0 & \\frac{1}{2} \\\\\n",
    "0 & 1 & \\frac{1}{2} \\\\\n",
    "0 & 0 & 0 \\\\\n",
    "0 & 0 & 0 \\\\\n",
    "\\end{bmatrix}\n",
    "$$"
   ]
  },
  {
   "cell_type": "markdown",
   "metadata": {},
   "source": [
    "Vi ser, at rangen af $A$ er 2. Da rangen af matricen er mindre end antallet af søjler, er de tre vektorer lineært afhængige."
   ]
  },
  {
   "cell_type": "markdown",
   "metadata": {},
   "source": [
    "## Opogave d)"
   ]
  },
  {
   "cell_type": "markdown",
   "metadata": {},
   "source": [
    "Lad $n$ være et naturligt tal og lad $A$ og $B$ være to $n × n$ matricer.\n",
    "\n",
    "Vis identiteten $((A + B)^2)^T = (A^T + B^T )^2$"
   ]
  },
  {
   "cell_type": "markdown",
   "metadata": {},
   "source": [
    "Lad bruge et eksempel til at vise identiteten.\n",
    "\n",
    "$$\n",
    "A = \\begin{bmatrix}\n",
    "a & b \\\\\n",
    "c & d \\\\\n",
    "\\end{bmatrix}\n",
    "$$\n",
    "$$\n",
    "A^T = \\begin{bmatrix}\n",
    "a & c \\\\\n",
    "b & d \\\\\n",
    "\\end{bmatrix}\n",
    "$$\n",
    "$$\n",
    "B = \\begin{bmatrix}\n",
    "e & f \\\\\n",
    "g & h \\\\\n",
    "\\end{bmatrix}\n",
    "$$\n",
    "$$\n",
    "B^T = \\begin{bmatrix}\n",
    "e & g \\\\\n",
    "f & h \\\\\n",
    "\\end{bmatrix}\n",
    "$$\n",
    "$$\n",
    "A + B = \\begin{bmatrix}\n",
    "a + e & b + f \\\\\n",
    "c + g & d + h \\\\\n",
    "\\end{bmatrix}\n",
    "$$\n",
    "$$\n",
    "(A + B)^2 = \n",
    "\\begin{bmatrix}\n",
    "\\begin{bmatrix}\n",
    "a+e & c+g \\\\\n",
    "b+f & d+h\n",
    "\\end{bmatrix}\n",
    "\\begin{bmatrix}\n",
    "a+e \\\\\n",
    "b+f\n",
    "\\end{bmatrix}\n",
    " & \n",
    "\\begin{bmatrix}\n",
    "a+e & c+g \\\\\n",
    "b+f & d+h\n",
    "\\end{bmatrix}\n",
    "\\begin{bmatrix}\n",
    "c+g \\\\\n",
    "d+h\n",
    "\\end{bmatrix}\n",
    "\n",
    "\\end{bmatrix}\n",
    "$$\n",
    "$$\n",
    "= \\begin{bmatrix}\n",
    "(a+e)^2 + (b+f)(c+g) & (c+g)(a+d+h+e) \\\\\n",
    "(b+f)(a+d+h+e) & (b+f)(c+g) + (d+h)^2 \\\\\n",
    "\\end{bmatrix}\n",
    "$$\n",
    "$$\n",
    "A^T + B^T = \\begin{bmatrix}\n",
    "a + e & c + g \\\\\n",
    "b + f & d + h \\\\\n",
    "\\end{bmatrix}\n",
    "$$\n",
    "$$\n",
    "(A^T + B^T)^2 = \\begin{bmatrix}\n",
    "(a+e)^2 + (b+f)(c+g) & (b+f)(a+d+h+e) \\\\\n",
    "(c+g)(a+d+h+e) & (b+f)(c+g) + (d+h)^2 \\\\\n",
    "\\end{bmatrix}\n",
    "$$\n",
    "$$\n",
    "((A + B)^2)^T = \\begin{bmatrix}\n",
    "(a+e)^2 + (b+f)(c+g) & (b+f)(a+d+h+e) \\\\\n",
    "(c+g)(a+d+h+e) & (b+f)(c+g) + (d+h)^2 \\\\\n",
    "\\end{bmatrix}\n",
    "$$\n",
    "\n",
    "\n",
    "Vi kan altså se at de to sidste matricer er ens, og derfor er $$\\boxed{((A + B)^2)^T = (A^T + B^T)^2}.$$"
   ]
  },
  {
   "cell_type": "markdown",
   "metadata": {},
   "source": [
    "## Opgave e)"
   ]
  },
  {
   "cell_type": "markdown",
   "metadata": {},
   "source": [
    "Beregn determinanten af følgende matrix:\n",
    "$$\n",
    "\\begin{bmatrix}\n",
    "2 & 1 & 0 & −1\\\\\n",
    "−2 & 0 & −1 & 1\\\\\n",
    "2 & 1 & 1 & −1\\\\\n",
    "−2 & 0 & 1 & 0\n",
    " \\end{bmatrix}\n",
    "."
   ]
  },
  {
   "cell_type": "markdown",
   "metadata": {},
   "source": [
    "For at gøre det så nemt som mulig for os selv, omformer vi matricen til en trekantmatrix, og udregner deraf determinanten af matricen.\n",
    "$$R2+R1, R3-R1, R4+R1$$\n",
    "$$\n",
    "\\begin{bmatrix}\n",
    "2 & 1 & 0 & −1\\\\\n",
    "0 & 1 & −1 & 0\\\\\n",
    "0 & 0 & 1 & 0\\\\\n",
    "0 & 1 & 1 & -1\n",
    " \\end{bmatrix}\n",
    "$$\n",
    "$$R4-R2$$\n",
    "$$\n",
    "\\begin{bmatrix}\n",
    "2 & 1 & 0 & −1\\\\\n",
    "0 & 1 & −1 & 0\\\\\n",
    "0 & 0 & 1 & 0\\\\\n",
    "0 & 0 & 2 & -1\n",
    " \\end{bmatrix}\n",
    "$$\n",
    "$$R4-2 \\cdot R3$$\n",
    "$$\n",
    "\\begin{bmatrix}\n",
    "2 & 1 & 0 & −1\\\\\n",
    "0 & 1 & -1 & 0\\\\\n",
    "0 & 0 & 1 & 0\\\\\n",
    "0 & 0 & 0 & -1\n",
    " \\end{bmatrix}\n",
    "$$\n",
    "\n",
    "Vi tager nu determinanten:\n",
    "$$Determinant  = 2 \\cdot 1 \\cdot 1 \\cdot (-1) = \\boxed{-2}$$"
   ]
  },
  {
   "cell_type": "markdown",
   "metadata": {},
   "source": [
    "## Opgave f)"
   ]
  },
  {
   "cell_type": "markdown",
   "metadata": {},
   "source": [
    "Lad n være et naturligt tal og lad A være en n ×n matrix på formen:\n",
    "$$\n",
    "A = \\begin{bmatrix}\n",
    "0 & 0 & \\dots & 0 & \\lambda _1\\\\\n",
    "0 & \\dots & 0 & \\lambda _2 & 0 \\\\\n",
    "0 & \\dots & \\lambda _3 & 0 & 0 \\\\\n",
    "\\vdots &  \\\\\n",
    "\\lambda _n & 0 & \\dots  & 0  & 0\n",
    "\\end{bmatrix}\n",
    "$$\n",
    "En sådan matrix kaldes en antidiagonal matrix."
   ]
  },
  {
   "cell_type": "markdown",
   "metadata": {},
   "source": [
    "#### 1. Find determinanten for $n=2,3$ og $4$."
   ]
  },
  {
   "cell_type": "markdown",
   "metadata": {},
   "source": [
    "Vi starter med at kigge for $n=2$:\n",
    "\n",
    "$$\n",
    "A=\n",
    " \\begin{bmatrix}\n",
    " 0 & \\lambda_1 \\\\\n",
    " \\lambda_2 &  0 \\\\\n",
    " \\end{bmatrix}\n",
    " $$\n",
    "\n",
    "Determinanten er:\n",
    "$$\n",
    "det(A) = \n",
    "\\boxed{-\\lambda_2 \\cdot \\lambda_1}\n",
    "$$"
   ]
  },
  {
   "cell_type": "markdown",
   "metadata": {},
   "source": [
    "Vi ser nu for $n=3$:\n",
    "\n",
    "$$\n",
    "A=\n",
    " \\begin{bmatrix}\n",
    " 0 & 0 & \\lambda_1 \\\\\n",
    " 0 &\\lambda_2 &  0 \\\\\n",
    " \\lambda_3 &  0  & 0 \\\\\n",
    " \\end{bmatrix}\n",
    " $$\n",
    "\n",
    "Determinanten er:\n",
    "$$\n",
    "det(A)=\n",
    "0*det\\begin{bmatrix}\n",
    "\\lambda_2 & 0 \\\\\n",
    "0 & 0\n",
    "\\end{bmatrix}\n",
    "-\n",
    "0*det\\begin{bmatrix}\n",
    "0 & \\lambda_1 \\\\\n",
    "0 & 0\n",
    " \\end{bmatrix}\n",
    " +\n",
    " \\lambda_3*det\\begin{bmatrix}\n",
    " 0 & \\lambda_1 \\\\\n",
    " \\lambda_2 &  0\n",
    " \\end{bmatrix}\n",
    " $$\n",
    " $$\n",
    " =\n",
    " \\lambda_3*det\\begin{bmatrix}\n",
    " 0 & \\lambda_1 \\\\\n",
    " \\lambda_2 &  0\n",
    " \\end{bmatrix}\n",
    " =\n",
    " \\lambda_3 \\cdot (-\\lambda_2 \\cdot \\lambda_1) = \\boxed{ -\\lambda_3 \\cdot \\lambda_2 \\cdot \\lambda_1}\n",
    " \n",
    "$$"
   ]
  },
  {
   "cell_type": "markdown",
   "metadata": {},
   "source": [
    "Vi ser nu for $n=4$:\n",
    "\n",
    "$$\n",
    "A=\n",
    " \\begin{bmatrix}\n",
    " 0 &0 & 0 & \\lambda_1 \\\\\n",
    " 0 & 0 &\\lambda_2 &  0 \\\\\n",
    " 0 & \\lambda_3 &  0  & 0 \\\\\n",
    " \\lambda_4 & 0  & 0  & 0 \\\\\n",
    " \\end{bmatrix}\n",
    " $$\n"
   ]
  },
  {
   "cell_type": "markdown",
   "metadata": {},
   "source": [
    " Determinanten er:\n",
    " $$\n",
    " det(A)=\n",
    " -\\lambda_4 \\cdot det\n",
    " \\begin{bmatrix}\n",
    " 0 & 0 & \\lambda_1 \\\\\n",
    " 0 &\\lambda_2 &  0 \\\\\n",
    " \\lambda_3 &  0  & 0 \\\\\n",
    " \\end{bmatrix}\n",
    " = \n",
    " -\\lambda_4 \\cdot (-\\lambda_3 \\cdot \\lambda_2 \\cdot \\lambda_1) =\n",
    " \\boxed{\\lambda_4 \\cdot \\lambda_3 \\cdot \\lambda_2 \\cdot \\lambda_1}\n",
    " $$"
   ]
  },
  {
   "cell_type": "markdown",
   "metadata": {},
   "source": [
    "#### 2. Vis for alle naturlige tal $n \\in \\mathbb{Z}_{\\geq 2}$ at $det(A)=(-1)^{\\frac{n(n+3)}{2}}\\lambda_1 \\cdots \\lambda_{n}$."
   ]
  },
  {
   "cell_type": "markdown",
   "metadata": {},
   "source": [
    "Vi ved at at $n=2$ er:\n",
    "$$\n",
    "det(A) = \n",
    "-\\lambda_2 \\cdot \\lambda_1\n",
    "$$\n",
    "Vi kan tjekke om udregningen passer:\n",
    "$$\n",
    "(-1)^{\\frac{2(2+3)}{2}} = (-1)^{5} = -1\n",
    "$$\n",
    "Fortegnet passer altså til $det(A)$ for $n=2$.\n",
    "\n",
    "Vi kan for sjov tjekke både $n = 5$, $n = 6$ og $n =7$:\n",
    "$$\n",
    "n=5:\n",
    "\\lambda_5 \\cdot (\\lambda_4 \\cdot \\lambda_3 \\cdot \\lambda_2 \\cdot \\lambda_1) = \n",
    "\\lambda_5 \\cdot \\lambda_4 \\cdot \\lambda_3 \\cdot \\lambda_2 \\cdot \\lambda_1\n",
    "$$\n",
    "$$\n",
    "n=6:\n",
    "-\\lambda_6 \\cdot (\\lambda_5 \\cdot \\lambda_4 \\cdot \\lambda_3 \\cdot \\lambda_2 \\cdot \\lambda_1) = \n",
    "-\\lambda_6 \\cdot \\lambda_5 \\cdot \\lambda_4 \\cdot \\lambda_3 \\cdot \\lambda_2 \\cdot \\lambda_1\n",
    "$$\n",
    "$$\n",
    "n=7:\n",
    "\\lambda_7 \\cdot(-\\lambda_6 \\cdot \\lambda_5 \\cdot \\lambda_4 \\cdot \\lambda_3 \\cdot \\lambda_2 \\cdot \\lambda_1) = \n",
    "-\\lambda_7 \\cdot \\lambda_6 \\cdot \\lambda_5 \\cdot \\lambda_4 \\cdot \\lambda_3 \\cdot \\lambda_2 \\cdot \\lambda_1\n",
    "$$\n",
    "\n",
    "Hvis vi nu antager, at det også gælder for $n=k$, så er:\n",
    "$$\n",
    "det(A)=(-1)^{\\frac{k(k+3)}{2}}\\lambda_1 \\lambda_2 \\cdots \\lambda_{k}\n",
    "$$\n",
    "\n",
    "Vi ser nu, om det vil gælde for alle naturlige tal, dvs. $n=k+1$:\n",
    "$$\n",
    "det(A)=(-1)^{\\frac{(k+1)((k+1)+3)}{2}}\\lambda_1 \\lambda_2 \\cdots \\lambda_{k+1}\n",
    "$$\n",
    "\n",
    "Vi ser, at for $n=k+1$ bevares den antidiagonale form. Hver gang $k$ øges med 1, multipliceres determinanten med $\\lambda_{k+1}$ og skifter fortegn for hver anden iteration. \n",
    "\n",
    "Vi har derfor vist, at \n",
    "$$det(A)=(-1)^{\\frac{n(n+3)}{2}}\\lambda_1 \\cdots \\lambda_{n}$$ \n",
    "for alle naturlige tal $n \\in \\mathbb{Z}_{\\geq 2}$."
   ]
  }
 ],
 "metadata": {
  "language_info": {
   "name": "python"
  }
 },
 "nbformat": 4,
 "nbformat_minor": 2
}
