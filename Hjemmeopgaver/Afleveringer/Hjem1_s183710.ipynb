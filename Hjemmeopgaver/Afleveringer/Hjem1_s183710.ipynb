{
 "cells": [
  {
   "cell_type": "markdown",
   "metadata": {},
   "source": [
    "# Hjemmeopgave 1 - s183710\n"
   ]
  },
  {
   "cell_type": "markdown",
   "metadata": {},
   "source": [
    "### Opgave a)"
   ]
  },
  {
   "cell_type": "markdown",
   "metadata": {},
   "source": [
    "***Afgør om følgende to logiske udsagn er logisk ækvivalente:***\n",
    "\n",
    "$(P ∧ Q) ⇒ R$  og  $¬P ∨ (Q ⇒ R)$\n",
    "\n",
    "Vi laver vores sandhedstabel."
   ]
  },
  {
   "cell_type": "code",
   "execution_count": 9,
   "metadata": {},
   "outputs": [
    {
     "name": "stdout",
     "output_type": "stream",
     "text": [
      "╒═════╤═════╤═════╤══════╤═══════════╤═══════════════╕\n",
      "│   P │   Q │   R │   ¬P │   (P ∧ Q) │   (P ∧ Q) ⇒ R │\n",
      "╞═════╪═════╪═════╪══════╪═══════════╪═══════════════╡\n",
      "│   1 │   1 │   1 │    0 │         1 │             1 │\n",
      "├─────┼─────┼─────┼──────┼───────────┼───────────────┤\n",
      "│   0 │   1 │   1 │    1 │         0 │             1 │\n",
      "├─────┼─────┼─────┼──────┼───────────┼───────────────┤\n",
      "│   1 │   0 │   1 │    0 │         0 │             1 │\n",
      "├─────┼─────┼─────┼──────┼───────────┼───────────────┤\n",
      "│   0 │   0 │   1 │    1 │         1 │             0 │\n",
      "├─────┼─────┼─────┼──────┼───────────┼───────────────┤\n",
      "│   1 │   1 │   0 │    0 │         1 │             0 │\n",
      "├─────┼─────┼─────┼──────┼───────────┼───────────────┤\n",
      "│   0 │   1 │   0 │    1 │         0 │             1 │\n",
      "├─────┼─────┼─────┼──────┼───────────┼───────────────┤\n",
      "│   1 │   0 │   0 │    0 │         0 │             1 │\n",
      "├─────┼─────┼─────┼──────┼───────────┼───────────────┤\n",
      "│   0 │   0 │   0 │    1 │         1 │             0 │\n",
      "╘═════╧═════╧═════╧══════╧═══════════╧═══════════════╛\n",
      "╒═════╤═════╤═════╤══════╤═══════════╤════════════════╕\n",
      "│   P │   Q │   R │   ¬P │   (Q ⇒ R) │   ¬P ∨ (Q ⇒ R) │\n",
      "╞═════╪═════╪═════╪══════╪═══════════╪════════════════╡\n",
      "│   1 │   1 │   1 │    0 │         1 │              1 │\n",
      "├─────┼─────┼─────┼──────┼───────────┼────────────────┤\n",
      "│   0 │   1 │   1 │    1 │         0 │              1 │\n",
      "├─────┼─────┼─────┼──────┼───────────┼────────────────┤\n",
      "│   1 │   0 │   1 │    0 │         0 │              1 │\n",
      "├─────┼─────┼─────┼──────┼───────────┼────────────────┤\n",
      "│   0 │   0 │   1 │    1 │         1 │              0 │\n",
      "├─────┼─────┼─────┼──────┼───────────┼────────────────┤\n",
      "│   1 │   1 │   0 │    0 │         1 │              0 │\n",
      "├─────┼─────┼─────┼──────┼───────────┼────────────────┤\n",
      "│   0 │   1 │   0 │    1 │         0 │              1 │\n",
      "├─────┼─────┼─────┼──────┼───────────┼────────────────┤\n",
      "│   1 │   0 │   0 │    0 │         0 │              1 │\n",
      "├─────┼─────┼─────┼──────┼───────────┼────────────────┤\n",
      "│   0 │   0 │   0 │    1 │         1 │              0 │\n",
      "╘═════╧═════╧═════╧══════╧═══════════╧════════════════╛\n"
     ]
    }
   ],
   "source": [
    "import numpy as np\n",
    "from tabulate import tabulate\n",
    "\n",
    "del1 = np.array([[1,0,1,0,1,0,1,0],\n",
    "               [1,1,0,0,1,1,0,0],\n",
    "               [1,1,1,1,0,0,0,0],\n",
    "               [0,1,0,1,0,1,0,1],\n",
    "               [1,0,0,1,1,0,0,1],\n",
    "               [1,1,1,0,0,1,1,0]])\n",
    "beskrivelse = [\"P\", \"Q\", \"R\", \"¬P\", \"(P ∧ Q)\", \"(P ∧ Q) ⇒ R\"]\n",
    "del1_trans= np.transpose(del1)\n",
    "del1_bool = del1_trans.astype(bool)\n",
    "table1 = tabulate(del1_bool, beskrivelse, tablefmt=\"fancy_grid\")\n",
    "print(table1)\n",
    "\n",
    "del2 = np.array([[1,0,1,0,1,0,1,0],\n",
    "               [1,1,0,0,1,1,0,0],\n",
    "               [1,1,1,1,0,0,0,0],\n",
    "               [0,1,0,1,0,1,0,1],\n",
    "               [1,0,0,1,1,0,0,1],\n",
    "               [1,1,1,0,0,1,1,0]])\n",
    "beskrivelse = [\"P\", \"Q\", \"R\", \"¬P\", \"(Q ⇒ R)\", \"¬P ∨ (Q ⇒ R)\"]\n",
    "del2_trans= np.transpose(del2)\n",
    "del2_bool = del2_trans.astype(bool)\n",
    "table1 = tabulate(del2_bool, beskrivelse, tablefmt=\"fancy_grid\")\n",
    "print(table1)\n",
    "\n"
   ]
  },
  {
   "cell_type": "markdown",
   "metadata": {},
   "source": [
    "Som vi kan se, er de to tabeller identiske. Dette skyldes at P og Q er modsatte af hinanden. Altså er de logisk ækvivalente."
   ]
  },
  {
   "cell_type": "markdown",
   "metadata": {},
   "source": [
    "### Opgave b)\n",
    "\n",
    "***Find alle reelle tal x som opfylder ligningen $|x-1|^2 = x^2 + |x|$.***"
   ]
  },
  {
   "cell_type": "markdown",
   "metadata": {},
   "source": [
    "For at løse ligningen $ |x-1|^2 = x^2 + |x| $, deler vi problemet op i to tilfælde baseret på værdien af $x$.\n",
    "\n",
    "#### Tilfælde 1: $x \\geq 0$\n",
    "Når $x \\geq 0$, er $ |x| = x $ og $ |x-1| = x-1 $ (da $x \\geq 1$ eller $0 \\leq x < 1$).\n",
    "\n",
    "Ligningen bliver:\n",
    "$$\n",
    "(x-1)^2 = x^2 + x\n",
    "$$\n",
    "Udvider venstresiden:\n",
    "$$\n",
    "x^2 - 2x + 1 = x^2 + x\n",
    "$$\n",
    "Trækker $x^2$ fra begge sider:\n",
    "$$\n",
    "-2x + 1 = x\n",
    "$$\n",
    "Løser for $x$:\n",
    "$$\n",
    "1 = 3x \\implies x = \\frac{1}{3}\n",
    "$$\n",
    "Da $x = \\frac{1}{3}$ opfylder $x \\geq 0$, er det en gyldig løsning i dette tilfælde.\n",
    "\n",
    "#### Tilfælde 2: $x < 0$\n",
    "Når $x < 0$, er $ |x| = -x $ og $ |x-1| = -(x-1) = -x+1 $.\n",
    "\n",
    "Ligningen bliver:\n",
    "$$\n",
    "(-x + 1)^2 = x^2 + (-x)\n",
    "$$\n",
    "Udvider venstresiden:\n",
    "$$\n",
    "x^2 - 2x + 1 = x^2 - x\n",
    "$$\n",
    "Trækker $x^2$ fra begge sider:\n",
    "$$\n",
    "-2x + 1 = -x\n",
    "$$\n",
    "Løser for $x$:\n",
    "$$\n",
    "1 = x\n",
    "$$\n",
    "Men $x = 1$ opfylder ikke $x < 0$, så der er ingen løsning i dette tilfælde.\n",
    "\n",
    "#### Samlet resultat\n",
    "Den eneste løsning, der opfylder alle betingelserne, er $x = \\frac{1}{3}$.\n",
    "\n",
    "Derfor er den entydige løsning:\n",
    "$$\n",
    "\\boxed{x = \\frac{1}{3}}\n",
    "$$"
   ]
  },
  {
   "cell_type": "markdown",
   "metadata": {},
   "source": [
    "### Opgave c)\n",
    "\n",
    "***Givet funktionen f : $R→R$ med forskriften***\n",
    "$$f(x) = 4x^2+ 4|x −1|$$\n",
    "\n",
    "#### 1. *Beregn funktionens værdimængde.*\n",
    "\n",
    "Vi skal beregne $Vm(f)$.\n",
    "\n",
    "\n",
    "#### 2. *Afgør om funktionen er injektiv*"
   ]
  }
 ],
 "metadata": {
  "kernelspec": {
   "display_name": "Python 3",
   "language": "python",
   "name": "python3"
  },
  "language_info": {
   "codemirror_mode": {
    "name": "ipython",
    "version": 3
   },
   "file_extension": ".py",
   "mimetype": "text/x-python",
   "name": "python",
   "nbconvert_exporter": "python",
   "pygments_lexer": "ipython3",
   "version": "3.12.4"
  }
 },
 "nbformat": 4,
 "nbformat_minor": 2
}
